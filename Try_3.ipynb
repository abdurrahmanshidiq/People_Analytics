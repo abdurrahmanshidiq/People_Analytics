{
 "cells": [
  {
   "cell_type": "code",
   "execution_count": 1,
   "metadata": {},
   "outputs": [],
   "source": [
    "import numpy as np\n",
    "import pandas as pd\n",
    "import matplotlib.pyplot as plt\n",
    "import seaborn as sns\n",
    "\n",
    "sns.set_style('darkgrid')\n",
    "%matplotlib inline"
   ]
  },
  {
   "cell_type": "code",
   "execution_count": 2,
   "metadata": {},
   "outputs": [],
   "source": [
    "# plt.style.available\n",
    "plt.style.use('tableau-colorblind10')\n",
    "color = ['tab:blue', 'tab:orange', 'tab:green', 'tab:red', \n",
    "         'tab:purple', 'tab:brown', 'tab:pink', 'tab:gray', 'tab:olive', 'tab:cyan']"
   ]
  },
  {
   "cell_type": "markdown",
   "metadata": {},
   "source": [
    "# Data Description\n",
    "\n",
    "- `job_level` : Level Jabatan Pekerja\n",
    "- `job_duration_in_current_job_level` : Masa Kerja pada job level saat ini\n",
    "- `person_level` : Level personal Pekerja\n",
    "- `job_duration_in_current_person_level` : Masa Kerja pada person level saat ini\n",
    "- `job_duration_in_current_branch` : Masa Kerja pada unit kerja saat ini\n",
    "- `Employee_type` : Tipe Pekerja ( 3 tipe Relationship Manager, tipe A, B , dan C)\n",
    "- `gender` : Jenis Kelamin\n",
    "- `age` : Usia\n",
    "- `marital_status_maried(Y/N)` : Status Pernikahan (Y / N)\n",
    "- `number_of_dependences` : Jumlah anak dalam tanggungan\n",
    "- `Education_level` : Tingkat pendidikan\n",
    "- `GPA` : IPK\n",
    "- `year_graduated` : Tahun lulus\n",
    "- `job_duration_from_training` : lama bekerja mulai dari training\n",
    "- `branch_rotation` : Jumlah rotasi pindah unit kerja\n",
    "- `job_rotation` : jumlah rotasi pindah jabatan\n",
    "- `assign_of_otherposition` : jumlah rotasi penugasan\n",
    "- `annual leave` : jumlah cuti tahunan\n",
    "- `sick_leaves` : jumlah izin sakit\n",
    "- `Last_achievement_%` : presentase pencapaian triwulan terakhir terhadap target\n",
    "- `Achievement_above_100%_during3quartal` : Jumlah pencapaian diatas 100% dalam 3 tahun terkahir\n",
    "- `Best Performance` : Termasuk dalam best performance (1/0)"
   ]
  },
  {
   "cell_type": "code",
   "execution_count": 3,
   "metadata": {},
   "outputs": [
    {
     "data": {
      "text/html": [
       "<div>\n",
       "<style scoped>\n",
       "    .dataframe tbody tr th:only-of-type {\n",
       "        vertical-align: middle;\n",
       "    }\n",
       "\n",
       "    .dataframe tbody tr th {\n",
       "        vertical-align: top;\n",
       "    }\n",
       "\n",
       "    .dataframe thead th {\n",
       "        text-align: right;\n",
       "    }\n",
       "</style>\n",
       "<table border=\"1\" class=\"dataframe\">\n",
       "  <thead>\n",
       "    <tr style=\"text-align: right;\">\n",
       "      <th></th>\n",
       "      <th>job_level</th>\n",
       "      <th>job_duration_in_current_job_level</th>\n",
       "      <th>person_level</th>\n",
       "      <th>job_duration_in_current_person_level</th>\n",
       "      <th>job_duration_in_current_branch</th>\n",
       "      <th>Employee_type</th>\n",
       "      <th>gender</th>\n",
       "      <th>age</th>\n",
       "      <th>marital_status_maried(Y/N)</th>\n",
       "      <th>number_of_dependences</th>\n",
       "      <th>...</th>\n",
       "      <th>year_graduated</th>\n",
       "      <th>job_duration_from_training</th>\n",
       "      <th>branch_rotation</th>\n",
       "      <th>job_rotation</th>\n",
       "      <th>assign_of_otherposition</th>\n",
       "      <th>annual leave</th>\n",
       "      <th>sick_leaves</th>\n",
       "      <th>Last_achievement_%</th>\n",
       "      <th>Achievement_above_100%_during3quartal</th>\n",
       "      <th>Best Performance</th>\n",
       "    </tr>\n",
       "  </thead>\n",
       "  <tbody>\n",
       "    <tr>\n",
       "      <th>0</th>\n",
       "      <td>JG04</td>\n",
       "      <td>1.352775</td>\n",
       "      <td>PG03</td>\n",
       "      <td>1.352775</td>\n",
       "      <td>1.732051</td>\n",
       "      <td>RM_type_A</td>\n",
       "      <td>2</td>\n",
       "      <td>1985</td>\n",
       "      <td>Y</td>\n",
       "      <td>1</td>\n",
       "      <td>...</td>\n",
       "      <td>2011</td>\n",
       "      <td>4</td>\n",
       "      <td>2</td>\n",
       "      <td>3</td>\n",
       "      <td>2</td>\n",
       "      <td>3</td>\n",
       "      <td>0</td>\n",
       "      <td>46.37</td>\n",
       "      <td>0.0</td>\n",
       "      <td>0</td>\n",
       "    </tr>\n",
       "    <tr>\n",
       "      <th>1</th>\n",
       "      <td>JG04</td>\n",
       "      <td>1.292285</td>\n",
       "      <td>PG03</td>\n",
       "      <td>1.292285</td>\n",
       "      <td>1.039230</td>\n",
       "      <td>RM_type_A</td>\n",
       "      <td>2</td>\n",
       "      <td>1989</td>\n",
       "      <td>Y</td>\n",
       "      <td>0</td>\n",
       "      <td>...</td>\n",
       "      <td>2007</td>\n",
       "      <td>4</td>\n",
       "      <td>4</td>\n",
       "      <td>3</td>\n",
       "      <td>0</td>\n",
       "      <td>0</td>\n",
       "      <td>1</td>\n",
       "      <td>47.68</td>\n",
       "      <td>0.0</td>\n",
       "      <td>0</td>\n",
       "    </tr>\n",
       "    <tr>\n",
       "      <th>2</th>\n",
       "      <td>JG05</td>\n",
       "      <td>2.565151</td>\n",
       "      <td>PG06</td>\n",
       "      <td>2.308679</td>\n",
       "      <td>1.780449</td>\n",
       "      <td>RM_type_C</td>\n",
       "      <td>1</td>\n",
       "      <td>1970</td>\n",
       "      <td>Y</td>\n",
       "      <td>1</td>\n",
       "      <td>...</td>\n",
       "      <td>1989</td>\n",
       "      <td>28</td>\n",
       "      <td>10</td>\n",
       "      <td>9</td>\n",
       "      <td>6</td>\n",
       "      <td>2</td>\n",
       "      <td>1</td>\n",
       "      <td>40.73</td>\n",
       "      <td>0.0</td>\n",
       "      <td>0</td>\n",
       "    </tr>\n",
       "    <tr>\n",
       "      <th>3</th>\n",
       "      <td>JG05</td>\n",
       "      <td>2.828427</td>\n",
       "      <td>PG06</td>\n",
       "      <td>1.000000</td>\n",
       "      <td>1.385641</td>\n",
       "      <td>RM_type_A</td>\n",
       "      <td>2</td>\n",
       "      <td>1967</td>\n",
       "      <td>Y</td>\n",
       "      <td>2</td>\n",
       "      <td>...</td>\n",
       "      <td>1987</td>\n",
       "      <td>29</td>\n",
       "      <td>11</td>\n",
       "      <td>6</td>\n",
       "      <td>0</td>\n",
       "      <td>4</td>\n",
       "      <td>10</td>\n",
       "      <td>47.42</td>\n",
       "      <td>0.0</td>\n",
       "      <td>1</td>\n",
       "    </tr>\n",
       "    <tr>\n",
       "      <th>4</th>\n",
       "      <td>JG05</td>\n",
       "      <td>2.828427</td>\n",
       "      <td>PG06</td>\n",
       "      <td>2.828427</td>\n",
       "      <td>0.707107</td>\n",
       "      <td>RM_type_A</td>\n",
       "      <td>2</td>\n",
       "      <td>1965</td>\n",
       "      <td>Y</td>\n",
       "      <td>3</td>\n",
       "      <td>...</td>\n",
       "      <td>1985</td>\n",
       "      <td>30</td>\n",
       "      <td>9</td>\n",
       "      <td>8</td>\n",
       "      <td>2</td>\n",
       "      <td>3</td>\n",
       "      <td>0</td>\n",
       "      <td>47.18</td>\n",
       "      <td>0.0</td>\n",
       "      <td>0</td>\n",
       "    </tr>\n",
       "    <tr>\n",
       "      <th>...</th>\n",
       "      <td>...</td>\n",
       "      <td>...</td>\n",
       "      <td>...</td>\n",
       "      <td>...</td>\n",
       "      <td>...</td>\n",
       "      <td>...</td>\n",
       "      <td>...</td>\n",
       "      <td>...</td>\n",
       "      <td>...</td>\n",
       "      <td>...</td>\n",
       "      <td>...</td>\n",
       "      <td>...</td>\n",
       "      <td>...</td>\n",
       "      <td>...</td>\n",
       "      <td>...</td>\n",
       "      <td>...</td>\n",
       "      <td>...</td>\n",
       "      <td>...</td>\n",
       "      <td>...</td>\n",
       "      <td>...</td>\n",
       "      <td>...</td>\n",
       "    </tr>\n",
       "    <tr>\n",
       "      <th>11148</th>\n",
       "      <td>JG04</td>\n",
       "      <td>1.256981</td>\n",
       "      <td>PG03</td>\n",
       "      <td>1.256981</td>\n",
       "      <td>1.224745</td>\n",
       "      <td>RM_type_A</td>\n",
       "      <td>2</td>\n",
       "      <td>1986</td>\n",
       "      <td>Y</td>\n",
       "      <td>1</td>\n",
       "      <td>...</td>\n",
       "      <td>2016</td>\n",
       "      <td>4</td>\n",
       "      <td>3</td>\n",
       "      <td>3</td>\n",
       "      <td>0</td>\n",
       "      <td>4</td>\n",
       "      <td>1</td>\n",
       "      <td>50.87</td>\n",
       "      <td>0.0</td>\n",
       "      <td>0</td>\n",
       "    </tr>\n",
       "    <tr>\n",
       "      <th>11149</th>\n",
       "      <td>JG04</td>\n",
       "      <td>1.385641</td>\n",
       "      <td>PG03</td>\n",
       "      <td>1.385641</td>\n",
       "      <td>1.802776</td>\n",
       "      <td>RM_type_B</td>\n",
       "      <td>1</td>\n",
       "      <td>1988</td>\n",
       "      <td>Y</td>\n",
       "      <td>2</td>\n",
       "      <td>...</td>\n",
       "      <td>2015</td>\n",
       "      <td>3</td>\n",
       "      <td>1</td>\n",
       "      <td>2</td>\n",
       "      <td>0</td>\n",
       "      <td>6</td>\n",
       "      <td>0</td>\n",
       "      <td>79.91</td>\n",
       "      <td>0.0</td>\n",
       "      <td>0</td>\n",
       "    </tr>\n",
       "    <tr>\n",
       "      <th>11150</th>\n",
       "      <td>JG04</td>\n",
       "      <td>1.256981</td>\n",
       "      <td>PG03</td>\n",
       "      <td>1.256981</td>\n",
       "      <td>1.385641</td>\n",
       "      <td>RM_type_B</td>\n",
       "      <td>2</td>\n",
       "      <td>1991</td>\n",
       "      <td>Y</td>\n",
       "      <td>0</td>\n",
       "      <td>...</td>\n",
       "      <td>2017</td>\n",
       "      <td>2</td>\n",
       "      <td>1</td>\n",
       "      <td>2</td>\n",
       "      <td>0</td>\n",
       "      <td>4</td>\n",
       "      <td>0</td>\n",
       "      <td>78.38</td>\n",
       "      <td>0.0</td>\n",
       "      <td>0</td>\n",
       "    </tr>\n",
       "    <tr>\n",
       "      <th>11151</th>\n",
       "      <td>JG04</td>\n",
       "      <td>1.118034</td>\n",
       "      <td>PG03</td>\n",
       "      <td>1.118034</td>\n",
       "      <td>0.000000</td>\n",
       "      <td>RM_type_A</td>\n",
       "      <td>1</td>\n",
       "      <td>1987</td>\n",
       "      <td>Y</td>\n",
       "      <td>1</td>\n",
       "      <td>...</td>\n",
       "      <td>2012</td>\n",
       "      <td>5</td>\n",
       "      <td>5</td>\n",
       "      <td>4</td>\n",
       "      <td>0</td>\n",
       "      <td>4</td>\n",
       "      <td>1</td>\n",
       "      <td>85.94</td>\n",
       "      <td>1.0</td>\n",
       "      <td>0</td>\n",
       "    </tr>\n",
       "    <tr>\n",
       "      <th>11152</th>\n",
       "      <td>JG04</td>\n",
       "      <td>2.828427</td>\n",
       "      <td>PG04</td>\n",
       "      <td>2.121320</td>\n",
       "      <td>1.473092</td>\n",
       "      <td>RM_type_B</td>\n",
       "      <td>2</td>\n",
       "      <td>1980</td>\n",
       "      <td>Y</td>\n",
       "      <td>2</td>\n",
       "      <td>...</td>\n",
       "      <td>2009</td>\n",
       "      <td>14</td>\n",
       "      <td>5</td>\n",
       "      <td>7</td>\n",
       "      <td>0</td>\n",
       "      <td>2</td>\n",
       "      <td>0</td>\n",
       "      <td>79.99</td>\n",
       "      <td>1.0</td>\n",
       "      <td>0</td>\n",
       "    </tr>\n",
       "  </tbody>\n",
       "</table>\n",
       "<p>11153 rows × 22 columns</p>\n",
       "</div>"
      ],
      "text/plain": [
       "      job_level  job_duration_in_current_job_level person_level  \\\n",
       "0          JG04                           1.352775         PG03   \n",
       "1          JG04                           1.292285         PG03   \n",
       "2          JG05                           2.565151         PG06   \n",
       "3          JG05                           2.828427         PG06   \n",
       "4          JG05                           2.828427         PG06   \n",
       "...         ...                                ...          ...   \n",
       "11148      JG04                           1.256981         PG03   \n",
       "11149      JG04                           1.385641         PG03   \n",
       "11150      JG04                           1.256981         PG03   \n",
       "11151      JG04                           1.118034         PG03   \n",
       "11152      JG04                           2.828427         PG04   \n",
       "\n",
       "       job_duration_in_current_person_level  job_duration_in_current_branch  \\\n",
       "0                                  1.352775                        1.732051   \n",
       "1                                  1.292285                        1.039230   \n",
       "2                                  2.308679                        1.780449   \n",
       "3                                  1.000000                        1.385641   \n",
       "4                                  2.828427                        0.707107   \n",
       "...                                     ...                             ...   \n",
       "11148                              1.256981                        1.224745   \n",
       "11149                              1.385641                        1.802776   \n",
       "11150                              1.256981                        1.385641   \n",
       "11151                              1.118034                        0.000000   \n",
       "11152                              2.121320                        1.473092   \n",
       "\n",
       "      Employee_type  gender   age marital_status_maried(Y/N)  \\\n",
       "0         RM_type_A       2  1985                          Y   \n",
       "1         RM_type_A       2  1989                          Y   \n",
       "2         RM_type_C       1  1970                          Y   \n",
       "3         RM_type_A       2  1967                          Y   \n",
       "4         RM_type_A       2  1965                          Y   \n",
       "...             ...     ...   ...                        ...   \n",
       "11148     RM_type_A       2  1986                          Y   \n",
       "11149     RM_type_B       1  1988                          Y   \n",
       "11150     RM_type_B       2  1991                          Y   \n",
       "11151     RM_type_A       1  1987                          Y   \n",
       "11152     RM_type_B       2  1980                          Y   \n",
       "\n",
       "       number_of_dependences  ... year_graduated  job_duration_from_training  \\\n",
       "0                          1  ...           2011                           4   \n",
       "1                          0  ...           2007                           4   \n",
       "2                          1  ...           1989                          28   \n",
       "3                          2  ...           1987                          29   \n",
       "4                          3  ...           1985                          30   \n",
       "...                      ...  ...            ...                         ...   \n",
       "11148                      1  ...           2016                           4   \n",
       "11149                      2  ...           2015                           3   \n",
       "11150                      0  ...           2017                           2   \n",
       "11151                      1  ...           2012                           5   \n",
       "11152                      2  ...           2009                          14   \n",
       "\n",
       "       branch_rotation  job_rotation  assign_of_otherposition  annual leave  \\\n",
       "0                    2             3                        2             3   \n",
       "1                    4             3                        0             0   \n",
       "2                   10             9                        6             2   \n",
       "3                   11             6                        0             4   \n",
       "4                    9             8                        2             3   \n",
       "...                ...           ...                      ...           ...   \n",
       "11148                3             3                        0             4   \n",
       "11149                1             2                        0             6   \n",
       "11150                1             2                        0             4   \n",
       "11151                5             4                        0             4   \n",
       "11152                5             7                        0             2   \n",
       "\n",
       "       sick_leaves  Last_achievement_%  Achievement_above_100%_during3quartal  \\\n",
       "0                0               46.37                                    0.0   \n",
       "1                1               47.68                                    0.0   \n",
       "2                1               40.73                                    0.0   \n",
       "3               10               47.42                                    0.0   \n",
       "4                0               47.18                                    0.0   \n",
       "...            ...                 ...                                    ...   \n",
       "11148            1               50.87                                    0.0   \n",
       "11149            0               79.91                                    0.0   \n",
       "11150            0               78.38                                    0.0   \n",
       "11151            1               85.94                                    1.0   \n",
       "11152            0               79.99                                    1.0   \n",
       "\n",
       "       Best Performance  \n",
       "0                     0  \n",
       "1                     0  \n",
       "2                     0  \n",
       "3                     1  \n",
       "4                     0  \n",
       "...                 ...  \n",
       "11148                 0  \n",
       "11149                 0  \n",
       "11150                 0  \n",
       "11151                 0  \n",
       "11152                 0  \n",
       "\n",
       "[11153 rows x 22 columns]"
      ]
     },
     "execution_count": 3,
     "metadata": {},
     "output_type": "execute_result"
    }
   ],
   "source": [
    "df_train = pd.read_csv('train.csv')\n",
    "df_train"
   ]
  },
  {
   "cell_type": "markdown",
   "metadata": {},
   "source": [
    "# Exploratory Data Analysis"
   ]
  },
  {
   "cell_type": "code",
   "execution_count": 4,
   "metadata": {},
   "outputs": [
    {
     "data": {
      "text/html": [
       "<div>\n",
       "<style scoped>\n",
       "    .dataframe tbody tr th:only-of-type {\n",
       "        vertical-align: middle;\n",
       "    }\n",
       "\n",
       "    .dataframe tbody tr th {\n",
       "        vertical-align: top;\n",
       "    }\n",
       "\n",
       "    .dataframe thead th {\n",
       "        text-align: right;\n",
       "    }\n",
       "</style>\n",
       "<table border=\"1\" class=\"dataframe\">\n",
       "  <thead>\n",
       "    <tr style=\"text-align: right;\">\n",
       "      <th></th>\n",
       "      <th>column</th>\n",
       "      <th>dtype</th>\n",
       "      <th>null</th>\n",
       "      <th>null_Pct</th>\n",
       "      <th>nunique</th>\n",
       "      <th>sample</th>\n",
       "    </tr>\n",
       "  </thead>\n",
       "  <tbody>\n",
       "    <tr>\n",
       "      <th>0</th>\n",
       "      <td>job_level</td>\n",
       "      <td>object</td>\n",
       "      <td>0</td>\n",
       "      <td>0.00</td>\n",
       "      <td>3</td>\n",
       "      <td>[JG04]</td>\n",
       "    </tr>\n",
       "    <tr>\n",
       "      <th>1</th>\n",
       "      <td>job_duration_in_current_job_level</td>\n",
       "      <td>float64</td>\n",
       "      <td>0</td>\n",
       "      <td>0.00</td>\n",
       "      <td>97</td>\n",
       "      <td>[2.82842712474619, 1.3527749258468702, 1.25698...</td>\n",
       "    </tr>\n",
       "    <tr>\n",
       "      <th>2</th>\n",
       "      <td>person_level</td>\n",
       "      <td>object</td>\n",
       "      <td>0</td>\n",
       "      <td>0.00</td>\n",
       "      <td>8</td>\n",
       "      <td>[PG03]</td>\n",
       "    </tr>\n",
       "    <tr>\n",
       "      <th>3</th>\n",
       "      <td>job_duration_in_current_person_level</td>\n",
       "      <td>float64</td>\n",
       "      <td>0</td>\n",
       "      <td>0.00</td>\n",
       "      <td>72</td>\n",
       "      <td>[1.3856406460551, 1.15325625946708, 2.54950975...</td>\n",
       "    </tr>\n",
       "    <tr>\n",
       "      <th>4</th>\n",
       "      <td>job_duration_in_current_branch</td>\n",
       "      <td>float64</td>\n",
       "      <td>0</td>\n",
       "      <td>0.00</td>\n",
       "      <td>69</td>\n",
       "      <td>[1.15325625946708, 0.707106781186548, 1.682260...</td>\n",
       "    </tr>\n",
       "    <tr>\n",
       "      <th>5</th>\n",
       "      <td>Employee_type</td>\n",
       "      <td>object</td>\n",
       "      <td>0</td>\n",
       "      <td>0.00</td>\n",
       "      <td>3</td>\n",
       "      <td>[RM_type_A]</td>\n",
       "    </tr>\n",
       "    <tr>\n",
       "      <th>6</th>\n",
       "      <td>gender</td>\n",
       "      <td>int64</td>\n",
       "      <td>0</td>\n",
       "      <td>0.00</td>\n",
       "      <td>2</td>\n",
       "      <td>[2]</td>\n",
       "    </tr>\n",
       "    <tr>\n",
       "      <th>7</th>\n",
       "      <td>age</td>\n",
       "      <td>int64</td>\n",
       "      <td>0</td>\n",
       "      <td>0.00</td>\n",
       "      <td>35</td>\n",
       "      <td>[1990, 1988, 1984]</td>\n",
       "    </tr>\n",
       "    <tr>\n",
       "      <th>8</th>\n",
       "      <td>marital_status_maried(Y/N)</td>\n",
       "      <td>object</td>\n",
       "      <td>0</td>\n",
       "      <td>0.00</td>\n",
       "      <td>2</td>\n",
       "      <td>[Y]</td>\n",
       "    </tr>\n",
       "    <tr>\n",
       "      <th>9</th>\n",
       "      <td>number_of_dependences</td>\n",
       "      <td>int64</td>\n",
       "      <td>0</td>\n",
       "      <td>0.00</td>\n",
       "      <td>7</td>\n",
       "      <td>[1, 2]</td>\n",
       "    </tr>\n",
       "    <tr>\n",
       "      <th>10</th>\n",
       "      <td>Education_level</td>\n",
       "      <td>object</td>\n",
       "      <td>0</td>\n",
       "      <td>0.00</td>\n",
       "      <td>6</td>\n",
       "      <td>[level_4, level_1]</td>\n",
       "    </tr>\n",
       "    <tr>\n",
       "      <th>11</th>\n",
       "      <td>GPA</td>\n",
       "      <td>float64</td>\n",
       "      <td>0</td>\n",
       "      <td>0.00</td>\n",
       "      <td>216</td>\n",
       "      <td>[3.67, 3.1, 3.35, 2.7, 3.14]</td>\n",
       "    </tr>\n",
       "    <tr>\n",
       "      <th>12</th>\n",
       "      <td>year_graduated</td>\n",
       "      <td>int64</td>\n",
       "      <td>0</td>\n",
       "      <td>0.00</td>\n",
       "      <td>38</td>\n",
       "      <td>[2008, 2012, 1998, 2007, 2010]</td>\n",
       "    </tr>\n",
       "    <tr>\n",
       "      <th>13</th>\n",
       "      <td>job_duration_from_training</td>\n",
       "      <td>int64</td>\n",
       "      <td>0</td>\n",
       "      <td>0.00</td>\n",
       "      <td>31</td>\n",
       "      <td>[17, 3, 5, 13]</td>\n",
       "    </tr>\n",
       "    <tr>\n",
       "      <th>14</th>\n",
       "      <td>branch_rotation</td>\n",
       "      <td>int64</td>\n",
       "      <td>0</td>\n",
       "      <td>0.00</td>\n",
       "      <td>19</td>\n",
       "      <td>[5, 3, 2]</td>\n",
       "    </tr>\n",
       "    <tr>\n",
       "      <th>15</th>\n",
       "      <td>job_rotation</td>\n",
       "      <td>int64</td>\n",
       "      <td>0</td>\n",
       "      <td>0.00</td>\n",
       "      <td>15</td>\n",
       "      <td>[4, 6, 3, 2]</td>\n",
       "    </tr>\n",
       "    <tr>\n",
       "      <th>16</th>\n",
       "      <td>assign_of_otherposition</td>\n",
       "      <td>int64</td>\n",
       "      <td>0</td>\n",
       "      <td>0.00</td>\n",
       "      <td>26</td>\n",
       "      <td>[1, 0, 2]</td>\n",
       "    </tr>\n",
       "    <tr>\n",
       "      <th>17</th>\n",
       "      <td>annual leave</td>\n",
       "      <td>int64</td>\n",
       "      <td>0</td>\n",
       "      <td>0.00</td>\n",
       "      <td>21</td>\n",
       "      <td>[3, 4, 6]</td>\n",
       "    </tr>\n",
       "    <tr>\n",
       "      <th>18</th>\n",
       "      <td>sick_leaves</td>\n",
       "      <td>int64</td>\n",
       "      <td>0</td>\n",
       "      <td>0.00</td>\n",
       "      <td>39</td>\n",
       "      <td>[0, 2]</td>\n",
       "    </tr>\n",
       "    <tr>\n",
       "      <th>19</th>\n",
       "      <td>Last_achievement_%</td>\n",
       "      <td>float64</td>\n",
       "      <td>1</td>\n",
       "      <td>0.01</td>\n",
       "      <td>6104</td>\n",
       "      <td>[75.4, 44.56, 94.48, 54.81, 91.22]</td>\n",
       "    </tr>\n",
       "    <tr>\n",
       "      <th>20</th>\n",
       "      <td>Achievement_above_100%_during3quartal</td>\n",
       "      <td>float64</td>\n",
       "      <td>1</td>\n",
       "      <td>0.01</td>\n",
       "      <td>4</td>\n",
       "      <td>[0.0, 1.0]</td>\n",
       "    </tr>\n",
       "    <tr>\n",
       "      <th>21</th>\n",
       "      <td>Best Performance</td>\n",
       "      <td>int64</td>\n",
       "      <td>0</td>\n",
       "      <td>0.00</td>\n",
       "      <td>2</td>\n",
       "      <td>[0]</td>\n",
       "    </tr>\n",
       "  </tbody>\n",
       "</table>\n",
       "</div>"
      ],
      "text/plain": [
       "                                   column    dtype  null  null_Pct  nunique  \\\n",
       "0                               job_level   object     0      0.00        3   \n",
       "1       job_duration_in_current_job_level  float64     0      0.00       97   \n",
       "2                            person_level   object     0      0.00        8   \n",
       "3    job_duration_in_current_person_level  float64     0      0.00       72   \n",
       "4          job_duration_in_current_branch  float64     0      0.00       69   \n",
       "5                           Employee_type   object     0      0.00        3   \n",
       "6                                  gender    int64     0      0.00        2   \n",
       "7                                     age    int64     0      0.00       35   \n",
       "8              marital_status_maried(Y/N)   object     0      0.00        2   \n",
       "9                   number_of_dependences    int64     0      0.00        7   \n",
       "10                        Education_level   object     0      0.00        6   \n",
       "11                                    GPA  float64     0      0.00      216   \n",
       "12                         year_graduated    int64     0      0.00       38   \n",
       "13             job_duration_from_training    int64     0      0.00       31   \n",
       "14                        branch_rotation    int64     0      0.00       19   \n",
       "15                           job_rotation    int64     0      0.00       15   \n",
       "16                assign_of_otherposition    int64     0      0.00       26   \n",
       "17                           annual leave    int64     0      0.00       21   \n",
       "18                            sick_leaves    int64     0      0.00       39   \n",
       "19                     Last_achievement_%  float64     1      0.01     6104   \n",
       "20  Achievement_above_100%_during3quartal  float64     1      0.01        4   \n",
       "21                       Best Performance    int64     0      0.00        2   \n",
       "\n",
       "                                               sample  \n",
       "0                                              [JG04]  \n",
       "1   [2.82842712474619, 1.3527749258468702, 1.25698...  \n",
       "2                                              [PG03]  \n",
       "3   [1.3856406460551, 1.15325625946708, 2.54950975...  \n",
       "4   [1.15325625946708, 0.707106781186548, 1.682260...  \n",
       "5                                         [RM_type_A]  \n",
       "6                                                 [2]  \n",
       "7                                  [1990, 1988, 1984]  \n",
       "8                                                 [Y]  \n",
       "9                                              [1, 2]  \n",
       "10                                 [level_4, level_1]  \n",
       "11                       [3.67, 3.1, 3.35, 2.7, 3.14]  \n",
       "12                     [2008, 2012, 1998, 2007, 2010]  \n",
       "13                                     [17, 3, 5, 13]  \n",
       "14                                          [5, 3, 2]  \n",
       "15                                       [4, 6, 3, 2]  \n",
       "16                                          [1, 0, 2]  \n",
       "17                                          [3, 4, 6]  \n",
       "18                                             [0, 2]  \n",
       "19                 [75.4, 44.56, 94.48, 54.81, 91.22]  \n",
       "20                                         [0.0, 1.0]  \n",
       "21                                                [0]  "
      ]
     },
     "execution_count": 4,
     "metadata": {},
     "output_type": "execute_result"
    }
   ],
   "source": [
    "summary = []\n",
    "\n",
    "for col in df_train.columns:\n",
    "    summary.append([col, df_train[col].dtype, df_train[col].isnull().sum(),\n",
    "                   round(df_train[col].isnull().sum()/len(df_train)*100,2), \n",
    "                   df_train[col].nunique(), list(df_train[col].sample(5).drop_duplicates().values)\n",
    "                   ])\n",
    "    \n",
    "df_summary = pd.DataFrame(summary, columns='column dtype null null_Pct nunique sample'.split(\" \"))\n",
    "df_summary"
   ]
  },
  {
   "cell_type": "markdown",
   "metadata": {},
   "source": [
    "## Checking Null Values"
   ]
  },
  {
   "cell_type": "code",
   "execution_count": 5,
   "metadata": {},
   "outputs": [
    {
     "data": {
      "text/html": [
       "<div>\n",
       "<style scoped>\n",
       "    .dataframe tbody tr th:only-of-type {\n",
       "        vertical-align: middle;\n",
       "    }\n",
       "\n",
       "    .dataframe tbody tr th {\n",
       "        vertical-align: top;\n",
       "    }\n",
       "\n",
       "    .dataframe thead th {\n",
       "        text-align: right;\n",
       "    }\n",
       "</style>\n",
       "<table border=\"1\" class=\"dataframe\">\n",
       "  <thead>\n",
       "    <tr style=\"text-align: right;\">\n",
       "      <th></th>\n",
       "      <th>job_level</th>\n",
       "      <th>job_duration_in_current_job_level</th>\n",
       "      <th>person_level</th>\n",
       "      <th>job_duration_in_current_person_level</th>\n",
       "      <th>job_duration_in_current_branch</th>\n",
       "      <th>Employee_type</th>\n",
       "      <th>gender</th>\n",
       "      <th>age</th>\n",
       "      <th>marital_status_maried(Y/N)</th>\n",
       "      <th>number_of_dependences</th>\n",
       "      <th>...</th>\n",
       "      <th>year_graduated</th>\n",
       "      <th>job_duration_from_training</th>\n",
       "      <th>branch_rotation</th>\n",
       "      <th>job_rotation</th>\n",
       "      <th>assign_of_otherposition</th>\n",
       "      <th>annual leave</th>\n",
       "      <th>sick_leaves</th>\n",
       "      <th>Last_achievement_%</th>\n",
       "      <th>Achievement_above_100%_during3quartal</th>\n",
       "      <th>Best Performance</th>\n",
       "    </tr>\n",
       "  </thead>\n",
       "  <tbody>\n",
       "    <tr>\n",
       "      <th>1882</th>\n",
       "      <td>JG04</td>\n",
       "      <td>1.292285</td>\n",
       "      <td>PG03</td>\n",
       "      <td>1.292285</td>\n",
       "      <td>0.911043</td>\n",
       "      <td>RM_type_A</td>\n",
       "      <td>1</td>\n",
       "      <td>1991</td>\n",
       "      <td>N</td>\n",
       "      <td>0</td>\n",
       "      <td>...</td>\n",
       "      <td>2012</td>\n",
       "      <td>5</td>\n",
       "      <td>4</td>\n",
       "      <td>5</td>\n",
       "      <td>0</td>\n",
       "      <td>1</td>\n",
       "      <td>15</td>\n",
       "      <td>NaN</td>\n",
       "      <td>NaN</td>\n",
       "      <td>0</td>\n",
       "    </tr>\n",
       "  </tbody>\n",
       "</table>\n",
       "<p>1 rows × 22 columns</p>\n",
       "</div>"
      ],
      "text/plain": [
       "     job_level  job_duration_in_current_job_level person_level  \\\n",
       "1882      JG04                           1.292285         PG03   \n",
       "\n",
       "      job_duration_in_current_person_level  job_duration_in_current_branch  \\\n",
       "1882                              1.292285                        0.911043   \n",
       "\n",
       "     Employee_type  gender   age marital_status_maried(Y/N)  \\\n",
       "1882     RM_type_A       1  1991                          N   \n",
       "\n",
       "      number_of_dependences  ... year_graduated  job_duration_from_training  \\\n",
       "1882                      0  ...           2012                           5   \n",
       "\n",
       "      branch_rotation  job_rotation  assign_of_otherposition  annual leave  \\\n",
       "1882                4             5                        0             1   \n",
       "\n",
       "      sick_leaves  Last_achievement_%  Achievement_above_100%_during3quartal  \\\n",
       "1882           15                 NaN                                    NaN   \n",
       "\n",
       "      Best Performance  \n",
       "1882                 0  \n",
       "\n",
       "[1 rows x 22 columns]"
      ]
     },
     "execution_count": 5,
     "metadata": {},
     "output_type": "execute_result"
    }
   ],
   "source": [
    "df_train.loc[df_train['Last_achievement_%'].isnull()]"
   ]
  },
  {
   "cell_type": "code",
   "execution_count": 6,
   "metadata": {},
   "outputs": [
    {
     "data": {
      "text/html": [
       "<div>\n",
       "<style scoped>\n",
       "    .dataframe tbody tr th:only-of-type {\n",
       "        vertical-align: middle;\n",
       "    }\n",
       "\n",
       "    .dataframe tbody tr th {\n",
       "        vertical-align: top;\n",
       "    }\n",
       "\n",
       "    .dataframe thead th {\n",
       "        text-align: right;\n",
       "    }\n",
       "</style>\n",
       "<table border=\"1\" class=\"dataframe\">\n",
       "  <thead>\n",
       "    <tr style=\"text-align: right;\">\n",
       "      <th></th>\n",
       "      <th>job_level</th>\n",
       "      <th>job_duration_in_current_job_level</th>\n",
       "      <th>person_level</th>\n",
       "      <th>job_duration_in_current_person_level</th>\n",
       "      <th>job_duration_in_current_branch</th>\n",
       "      <th>Employee_type</th>\n",
       "      <th>gender</th>\n",
       "      <th>age</th>\n",
       "      <th>marital_status_maried(Y/N)</th>\n",
       "      <th>number_of_dependences</th>\n",
       "      <th>...</th>\n",
       "      <th>year_graduated</th>\n",
       "      <th>job_duration_from_training</th>\n",
       "      <th>branch_rotation</th>\n",
       "      <th>job_rotation</th>\n",
       "      <th>assign_of_otherposition</th>\n",
       "      <th>annual leave</th>\n",
       "      <th>sick_leaves</th>\n",
       "      <th>Last_achievement_%</th>\n",
       "      <th>Achievement_above_100%_during3quartal</th>\n",
       "      <th>Best Performance</th>\n",
       "    </tr>\n",
       "  </thead>\n",
       "  <tbody>\n",
       "    <tr>\n",
       "      <th>1882</th>\n",
       "      <td>JG04</td>\n",
       "      <td>1.292285</td>\n",
       "      <td>PG03</td>\n",
       "      <td>1.292285</td>\n",
       "      <td>0.911043</td>\n",
       "      <td>RM_type_A</td>\n",
       "      <td>1</td>\n",
       "      <td>1991</td>\n",
       "      <td>N</td>\n",
       "      <td>0</td>\n",
       "      <td>...</td>\n",
       "      <td>2012</td>\n",
       "      <td>5</td>\n",
       "      <td>4</td>\n",
       "      <td>5</td>\n",
       "      <td>0</td>\n",
       "      <td>1</td>\n",
       "      <td>15</td>\n",
       "      <td>NaN</td>\n",
       "      <td>NaN</td>\n",
       "      <td>0</td>\n",
       "    </tr>\n",
       "  </tbody>\n",
       "</table>\n",
       "<p>1 rows × 22 columns</p>\n",
       "</div>"
      ],
      "text/plain": [
       "     job_level  job_duration_in_current_job_level person_level  \\\n",
       "1882      JG04                           1.292285         PG03   \n",
       "\n",
       "      job_duration_in_current_person_level  job_duration_in_current_branch  \\\n",
       "1882                              1.292285                        0.911043   \n",
       "\n",
       "     Employee_type  gender   age marital_status_maried(Y/N)  \\\n",
       "1882     RM_type_A       1  1991                          N   \n",
       "\n",
       "      number_of_dependences  ... year_graduated  job_duration_from_training  \\\n",
       "1882                      0  ...           2012                           5   \n",
       "\n",
       "      branch_rotation  job_rotation  assign_of_otherposition  annual leave  \\\n",
       "1882                4             5                        0             1   \n",
       "\n",
       "      sick_leaves  Last_achievement_%  Achievement_above_100%_during3quartal  \\\n",
       "1882           15                 NaN                                    NaN   \n",
       "\n",
       "      Best Performance  \n",
       "1882                 0  \n",
       "\n",
       "[1 rows x 22 columns]"
      ]
     },
     "execution_count": 6,
     "metadata": {},
     "output_type": "execute_result"
    }
   ],
   "source": [
    "df_train.loc[df_train['Achievement_above_100%_during3quartal'].isnull()]"
   ]
  },
  {
   "cell_type": "code",
   "execution_count": 7,
   "metadata": {},
   "outputs": [],
   "source": [
    "# Drop null value\n",
    "df_train.dropna(inplace=True)"
   ]
  },
  {
   "cell_type": "markdown",
   "metadata": {},
   "source": [
    "## Check Duplicate Data"
   ]
  },
  {
   "cell_type": "code",
   "execution_count": 8,
   "metadata": {},
   "outputs": [
    {
     "data": {
      "text/html": [
       "<div>\n",
       "<style scoped>\n",
       "    .dataframe tbody tr th:only-of-type {\n",
       "        vertical-align: middle;\n",
       "    }\n",
       "\n",
       "    .dataframe tbody tr th {\n",
       "        vertical-align: top;\n",
       "    }\n",
       "\n",
       "    .dataframe thead th {\n",
       "        text-align: right;\n",
       "    }\n",
       "</style>\n",
       "<table border=\"1\" class=\"dataframe\">\n",
       "  <thead>\n",
       "    <tr style=\"text-align: right;\">\n",
       "      <th></th>\n",
       "      <th>job_level</th>\n",
       "      <th>job_duration_in_current_job_level</th>\n",
       "      <th>person_level</th>\n",
       "      <th>job_duration_in_current_person_level</th>\n",
       "      <th>job_duration_in_current_branch</th>\n",
       "      <th>Employee_type</th>\n",
       "      <th>gender</th>\n",
       "      <th>age</th>\n",
       "      <th>marital_status_maried(Y/N)</th>\n",
       "      <th>number_of_dependences</th>\n",
       "      <th>...</th>\n",
       "      <th>year_graduated</th>\n",
       "      <th>job_duration_from_training</th>\n",
       "      <th>branch_rotation</th>\n",
       "      <th>job_rotation</th>\n",
       "      <th>assign_of_otherposition</th>\n",
       "      <th>annual leave</th>\n",
       "      <th>sick_leaves</th>\n",
       "      <th>Last_achievement_%</th>\n",
       "      <th>Achievement_above_100%_during3quartal</th>\n",
       "      <th>Best Performance</th>\n",
       "    </tr>\n",
       "  </thead>\n",
       "  <tbody>\n",
       "  </tbody>\n",
       "</table>\n",
       "<p>0 rows × 22 columns</p>\n",
       "</div>"
      ],
      "text/plain": [
       "Empty DataFrame\n",
       "Columns: [job_level, job_duration_in_current_job_level, person_level, job_duration_in_current_person_level, job_duration_in_current_branch, Employee_type, gender, age, marital_status_maried(Y/N), number_of_dependences, Education_level, GPA, year_graduated, job_duration_from_training, branch_rotation, job_rotation, assign_of_otherposition, annual leave, sick_leaves, Last_achievement_%, Achievement_above_100%_during3quartal, Best Performance]\n",
       "Index: []\n",
       "\n",
       "[0 rows x 22 columns]"
      ]
     },
     "execution_count": 8,
     "metadata": {},
     "output_type": "execute_result"
    }
   ],
   "source": [
    "df_train[df_train.duplicated()]"
   ]
  },
  {
   "cell_type": "markdown",
   "metadata": {},
   "source": [
    "##  Data Analysis / Filtering"
   ]
  },
  {
   "cell_type": "markdown",
   "metadata": {},
   "source": [
    "### `job_level`"
   ]
  },
  {
   "cell_type": "code",
   "execution_count": 9,
   "metadata": {},
   "outputs": [
    {
     "data": {
      "text/plain": [
       "JG04    10412\n",
       "JG05      704\n",
       "JG03       36\n",
       "Name: job_level, dtype: int64"
      ]
     },
     "execution_count": 9,
     "metadata": {},
     "output_type": "execute_result"
    }
   ],
   "source": [
    "df_train['job_level'].value_counts()"
   ]
  },
  {
   "cell_type": "code",
   "execution_count": 10,
   "metadata": {},
   "outputs": [
    {
     "data": {
      "image/png": "[encoded data removed]",
      "text/plain": [
       "<Figure size 1152x432 with 2 Axes>"
      ]
     },
     "metadata": {
      "needs_background": "light"
     },
     "output_type": "display_data"
    }
   ],
   "source": [
    "plt.figure(figsize=(16,6))\n",
    "plt.subplot(121)\n",
    "plt.title('Jumlah employee berdasarkan Job Level (Job Grading)', fontsize=14, fontweight='bold')\n",
    "sns.countplot(df_train['job_level'])\n",
    "plt.subplot(122)\n",
    "plt.title('Proporsi employee berdasarkan Job Level (Job Grading)', fontsize=14, fontweight='bold')\n",
    "plt.pie(df_train['job_level'].value_counts(), \n",
    "       autopct='%.1f%%', labels=df_train['job_level'].value_counts().index, \n",
    "       textprops={'fontsize':13,'fontweight':'bold'}, explode=[0,0.2,0.5], startangle=30)\n",
    "\n",
    "plt.legend(loc='lower center', ncol=3)\n",
    "plt.show()"
   ]
  },
  {
   "cell_type": "code",
   "execution_count": null,
   "metadata": {},
   "outputs": [],
   "source": []
  },
  {
   "cell_type": "markdown",
   "metadata": {},
   "source": [
    "**Analisis data dilakukan berdasarkan `job_level` (Job Grading) untuk mengetahui karakteristik dari masing-masing job grading. Sekaligus dilakukan data filtering / data selection**."
   ]
  },
  {
   "cell_type": "markdown",
   "metadata": {},
   "source": [
    "### `job_duration_in_current_job_level`\n",
    "\n",
    "Masa Kerja pada job level (Job Grading) saat ini"
   ]
  },
  {
   "cell_type": "code",
   "execution_count": 11,
   "metadata": {},
   "outputs": [
    {
     "data": {
      "text/plain": [
       "1.352775    1517\n",
       "1.385641    1424\n",
       "1.224745     902\n",
       "1.322876     841\n",
       "1.256981     736\n",
       "            ... \n",
       "1.754993       1\n",
       "2.019901       1\n",
       "2.958040       1\n",
       "2.102380       1\n",
       "2.061553       1\n",
       "Name: job_duration_in_current_job_level, Length: 97, dtype: int64"
      ]
     },
     "execution_count": 11,
     "metadata": {},
     "output_type": "execute_result"
    }
   ],
   "source": [
    "df_train['job_duration_in_current_job_level'].value_counts()"
   ]
  },
  {
   "cell_type": "code",
   "execution_count": 12,
   "metadata": {},
   "outputs": [
    {
     "data": {
      "image/png": "[encoded data removed]",
      "text/plain": [
       "<Figure size 864x432 with 1 Axes>"
      ]
     },
     "metadata": {
      "needs_background": "light"
     },
     "output_type": "display_data"
    }
   ],
   "source": [
    "plt.figure(figsize=(12,6))\n",
    "plt.title('Distribusi Lama Masa Kerja Employee Pada Job Level Saat ini', fontsize=13, fontweight='bold')\n",
    "df_train['job_duration_in_current_job_level'].hist(bins=30)\n",
    "plt.xlabel('Masa Kerja')\n",
    "plt.ylabel('Jumlah Employee')\n",
    "plt.show()"
   ]
  },
  {
   "cell_type": "markdown",
   "metadata": {},
   "source": [
    "- Masa Kerja Employee Pada Job Levelnya saat ini, mayoritas terdistiribusi pada durasi 1.2 - 1.4 tahun"
   ]
  },
  {
   "cell_type": "code",
   "execution_count": 13,
   "metadata": {},
   "outputs": [],
   "source": [
    "JG = ['JG03','JG04','JG05']\n",
    "# color=['tab:blue','tab:orange','tab:green']"
   ]
  },
  {
   "cell_type": "code",
   "execution_count": 14,
   "metadata": {},
   "outputs": [
    {
     "data": {
      "image/png": "[encoded data removed]",
      "text/plain": [
       "<Figure size 1152x360 with 3 Axes>"
      ]
     },
     "metadata": {
      "needs_background": "light"
     },
     "output_type": "display_data"
    }
   ],
   "source": [
    "plt.figure(figsize=(16,5))\n",
    "plt.suptitle('Lama Masa Kerja Pada Job Level (Job Grading) saat ini', fontsize=13, fontweight='bold')\n",
    "for i in range(len(JG)):\n",
    "    plt.subplot(1,3,i+1)\n",
    "    plt.title(JG[i], fontweight='bold')\n",
    "    df_train[df_train['job_level']==JG[i]]['job_duration_in_current_job_level'].hist(bins=20, color=color[i])\n",
    "    plt.xlabel('Masa Kerja')\n",
    "    plt.ylabel('Jumlah Employee')\n",
    "plt.show()"
   ]
  },
  {
   "cell_type": "markdown",
   "metadata": {},
   "source": [
    "- Lama Masa Kerja employee `JG03` pada job level tersebut, mayoritas terdistribusi  pada 1.5 - 1.9 dan 2.2 - 2.5 tahun\n",
    "- Lama Masa Kerja employee `JG04` pada job level tersebut, mayoritas terdistribusi  pada 1.2 - 1.4 tahun\n",
    "- Lama Masa Kerja employee `JG05` pada job level tersebut, mayoritas terdistribusi  pada 1 - 1.5 dan 2.9 tahun"
   ]
  },
  {
   "cell_type": "markdown",
   "metadata": {},
   "source": [
    "### `person_level`\n",
    "\n",
    "Level personal Pekerja"
   ]
  },
  {
   "cell_type": "code",
   "execution_count": 1,
   "metadata": {},
   "outputs": [
    {
     "ename": "NameError",
     "evalue": "name 'df_train' is not defined",
     "output_type": "error",
     "traceback": [
      "\u001b[1;31m---------------------------------------------------------------------------\u001b[0m",
      "\u001b[1;31mNameError\u001b[0m                                 Traceback (most recent call last)",
      "\u001b[1;32m<ipython-input-1-0561cb1753e5>\u001b[0m in \u001b[0;36m<module>\u001b[1;34m\u001b[0m\n\u001b[1;32m----> 1\u001b[1;33m \u001b[0mdf_train\u001b[0m\u001b[1;33m[\u001b[0m\u001b[1;34m'person_level'\u001b[0m\u001b[1;33m]\u001b[0m\u001b[1;33m.\u001b[0m\u001b[0mvalue_counts\u001b[0m\u001b[1;33m(\u001b[0m\u001b[1;33m)\u001b[0m\u001b[1;33m\u001b[0m\u001b[1;33m\u001b[0m\u001b[0m\n\u001b[0m",
      "\u001b[1;31mNameError\u001b[0m: name 'df_train' is not defined"
     ]
    }
   ],
   "source": [
    "df_train['person_level'].value_counts()"
   ]
  },
  {
   "cell_type": "code",
   "execution_count": null,
   "metadata": {},
   "outputs": [],
   "source": [
    "df_train['person_level'].sort_values()"
   ]
  },
  {
   "cell_type": "code",
   "execution_count": null,
   "metadata": {},
   "outputs": [],
   "source": [
    "df_train['person_level'].value_counts().sort_index()"
   ]
  },
  {
   "cell_type": "code",
   "execution_count": null,
   "metadata": {},
   "outputs": [],
   "source": [
    "df_train['person_level'].value_counts().sort_index()"
   ]
  },
  {
   "cell_type": "code",
   "execution_count": null,
   "metadata": {},
   "outputs": [],
   "source": [
    "plt.figure(figsize=(16,6))\n",
    "\n",
    "plt.subplot(121)\n",
    "plt.title('Jumlah Employee Berdasarkan Person Level', fontsize=14, fontweight='bold')\n",
    "sns.countplot(df_train['person_level'])\n",
    "plt.subplot(122)\n",
    "plt.title('Proporsi Jumlah Employee Berdasarkan Person Level', fontsize=14, fontweight='bold')\n",
    "plt.pie(df_train['person_level'].value_counts(), autopct='%.0f%%', startangle=30, \n",
    "       labels=df_train['person_level'].value_counts().index, explode=[0.35,0.25,0.15,0.1,0,0,0,0],\n",
    "       textprops={'color':'white', 'fontweight':'bold', 'fontsize':11})\n",
    "plt.legend(loc='lower center', ncol=4)\n",
    "plt.show()"
   ]
  },
  {
   "cell_type": "code",
   "execution_count": null,
   "metadata": {},
   "outputs": [],
   "source": [
    "plt.figure(figsize=(16,10))\n",
    "plt.suptitle('Jumlah dan Proporsi Person Level Berdasarkan Job Level nya', fontsize=14, fontweight='bold')\n",
    "for i in range(len(JG)):\n",
    "    plt.subplot(2,3,i+1)\n",
    "    plt.title(JG[i], fontweight='bold', fontsize=13)\n",
    "    sns.countplot(df_train[df_train['job_level']==JG[i]]['person_level'].sort_values())\n",
    "    plt.subplot(2,3,i+4)\n",
    "    plt.pie(df_train[df_train['job_level']==JG[i]]['person_level'].value_counts().sort_index(), \n",
    "            autopct='%.1f%%', startangle=30, \n",
    "            labels=df_train[df_train['job_level']==JG[i]]['person_level'].value_counts().index, \n",
    "            textprops={'color':'white', 'fontweight':'bold', 'fontsize':11})\n",
    "    plt.legend(loc='lower center', ncol=4)"
   ]
  },
  {
   "cell_type": "markdown",
   "metadata": {},
   "source": [
    "### `Job_duration_in_current_person_level`\n",
    "\n",
    "Masa Kerja pada person level saat ini"
   ]
  },
  {
   "cell_type": "code",
   "execution_count": null,
   "metadata": {},
   "outputs": [],
   "source": [
    "df_train['job_duration_in_current_person_level'].value_counts()"
   ]
  },
  {
   "cell_type": "code",
   "execution_count": null,
   "metadata": {},
   "outputs": [],
   "source": [
    "plt.figure(figsize=(12,6))\n",
    "plt.title('Distribusi Lama Masa Kerja Employee Pada Person Level Saat ini', fontsize=13, fontweight='bold')\n",
    "df_train['job_duration_in_current_person_level'].hist(bins=30)\n",
    "plt.xlabel('Masa Kerja')\n",
    "plt.ylabel('Jumlah Employee')\n",
    "plt.show()"
   ]
  },
  {
   "cell_type": "markdown",
   "metadata": {},
   "source": [
    "Mayoritas Employee Bekerja selama 1.2 - 1.4 tahun dengan status person levelnya saat ini"
   ]
  },
  {
   "cell_type": "code",
   "execution_count": null,
   "metadata": {},
   "outputs": [],
   "source": [
    "PG = df_train['person_level'].value_counts().index.sort_values()\n",
    "PG"
   ]
  },
  {
   "cell_type": "code",
   "execution_count": null,
   "metadata": {},
   "outputs": [],
   "source": [
    "df_train[df_train['person_level']=='PG01']['job_duration_in_current_person_level']"
   ]
  },
  {
   "cell_type": "code",
   "execution_count": null,
   "metadata": {},
   "outputs": [],
   "source": [
    "plt.figure(figsize=(16,9))\n",
    "plt.suptitle('Lama Masa Kerja Pada Person Level (Personal Grade) saat ini', fontsize=13, fontweight='bold')\n",
    "for i in range(len(PG)):\n",
    "    plt.subplot(2,4,i+1)\n",
    "    plt.title(PG[i], fontweight='bold')\n",
    "    df_train[df_train['person_level']==PG[i]]['job_duration_in_current_person_level'].hist(bins=20, color=color[i])\n",
    "    plt.xlabel('Masa Kerja')\n",
    "    plt.ylabel('Jumlah Employee')\n",
    "\n",
    "plt.show()"
   ]
  },
  {
   "cell_type": "markdown",
   "metadata": {},
   "source": [
    "### `job_duration_in_current_branch`\n",
    "\n",
    "Masa Kerja pada unit kerja saat ini"
   ]
  },
  {
   "cell_type": "code",
   "execution_count": null,
   "metadata": {},
   "outputs": [],
   "source": [
    "df_train['job_duration_in_current_branch']"
   ]
  },
  {
   "cell_type": "code",
   "execution_count": null,
   "metadata": {},
   "outputs": [],
   "source": [
    "plt.figure(figsize=(12,6))\n",
    "plt.title('Distribusi Lama Masa Kerja Employee Pada Unit Kerjanya (Branch) Saat ini', fontsize=13, fontweight='bold')\n",
    "df_train['job_duration_in_current_branch'].hist(bins=20)\n",
    "plt.xlabel('Masa Kerja')\n",
    "plt.ylabel('Jumlah Employee')\n",
    "plt.show()"
   ]
  },
  {
   "cell_type": "markdown",
   "metadata": {},
   "source": [
    "### Employee Type\n",
    "\n",
    "Tipe Pekerja ( 3 tipe Relationship Manager, tipe A, B , dan C)"
   ]
  },
  {
   "cell_type": "code",
   "execution_count": null,
   "metadata": {},
   "outputs": [],
   "source": [
    "df_train['Employee_type'].value_counts()"
   ]
  },
  {
   "cell_type": "code",
   "execution_count": null,
   "metadata": {},
   "outputs": [],
   "source": [
    "plt.figure(figsize=(16,6))\n",
    "\n",
    "plt.subplot(121)\n",
    "plt.title('Jumlah Employee Berdasarkan Tipe Pekerja\\n (Relationship Manager)', fontsize=14, fontweight='bold')\n",
    "sns.countplot(df_train['Employee_type'].sort_values())\n",
    "plt.subplot(122)\n",
    "plt.title('Proporsi Jumlah Employee Berdasarkan Tipe Pekerja\\n (Relationship Manager)', fontsize=14, fontweight='bold')\n",
    "plt.pie(df_train['Employee_type'].value_counts(), autopct='%.0f%%', startangle=30, \n",
    "       labels=df_train['Employee_type'].value_counts().index,\n",
    "       textprops={'color':'white', 'fontweight':'bold', 'fontsize':11})\n",
    "plt.legend(loc='lower center', ncol=4)\n",
    "plt.show()"
   ]
  },
  {
   "cell_type": "code",
   "execution_count": null,
   "metadata": {},
   "outputs": [],
   "source": [
    "plt.figure(figsize=(16,10))\n",
    "plt.suptitle('Jumlah dan Proporsi Tipe Pekerja (Relationship Manager)\\n Berdasarkan Job Level nya', \n",
    "             fontsize=14, fontweight='bold')\n",
    "for i in range(len(JG)):\n",
    "    plt.subplot(2,3,i+1)\n",
    "    plt.title(JG[i], fontweight='bold', fontsize=13)\n",
    "    sns.countplot(df_train[df_train['job_level']==JG[i]]['Employee_type'].sort_values())\n",
    "    plt.subplot(2,3,i+4)\n",
    "    plt.pie(df_train[df_train['job_level']==JG[i]]['Employee_type'].value_counts().sort_index(), \n",
    "            autopct='%.1f%%', startangle=30, \n",
    "            labels=df_train[df_train['job_level']==JG[i]]['Employee_type'].value_counts().index, \n",
    "            textprops={'color':'white', 'fontweight':'bold', 'fontsize':11})\n",
    "    plt.legend(loc='lower center', ncol=4)"
   ]
  },
  {
   "cell_type": "markdown",
   "metadata": {},
   "source": [
    "### Gender\n",
    "\n",
    "Jenis Kelamin"
   ]
  },
  {
   "cell_type": "code",
   "execution_count": null,
   "metadata": {},
   "outputs": [],
   "source": [
    "df_train['gender'].value_counts()"
   ]
  },
  {
   "cell_type": "code",
   "execution_count": null,
   "metadata": {},
   "outputs": [],
   "source": [
    "plt.figure(figsize=(16,6))\n",
    "\n",
    "plt.subplot(121)\n",
    "plt.title('Jumlah Employee Berdasarkan Gender', fontsize=14, fontweight='bold')\n",
    "sns.countplot(df_train['gender'].sort_values())\n",
    "plt.subplot(122)\n",
    "plt.title('Proporsi Jumlah Employee Berdasarkan Gender', fontsize=14, fontweight='bold')\n",
    "plt.pie(df_train['gender'].value_counts().sort_values(), autopct='%.0f%%', startangle=90, \n",
    "       labels=df_train['gender'].value_counts().sort_values().index,\n",
    "       textprops={'color':'white', 'fontweight':'bold', 'fontsize':11})\n",
    "plt.legend(loc='lower center', ncol=4)\n",
    "plt.show()"
   ]
  },
  {
   "cell_type": "markdown",
   "metadata": {},
   "source": [
    "### Umur\n",
    "\n",
    "Usia"
   ]
  },
  {
   "cell_type": "code",
   "execution_count": null,
   "metadata": {},
   "outputs": [],
   "source": [
    "df_train['age']"
   ]
  },
  {
   "cell_type": "code",
   "execution_count": null,
   "metadata": {},
   "outputs": [],
   "source": [
    "plt.figure(figsize=(12,6))\n",
    "plt.title('Distribusi Umur Employee Pada Tahun 2021', fontsize=13, fontweight='bold')\n",
    "(2021-df_train['age']).hist(bins=20)\n",
    "plt.xlabel('Umur')\n",
    "plt.xlabel('Jumlah Employee')\n",
    "plt.show()"
   ]
  },
  {
   "cell_type": "code",
   "execution_count": null,
   "metadata": {},
   "outputs": [],
   "source": []
  },
  {
   "cell_type": "markdown",
   "metadata": {},
   "source": [
    "### marital_status_married(Y/N)\n",
    "\n",
    "Status Pernikahan (Y / N)"
   ]
  },
  {
   "cell_type": "code",
   "execution_count": null,
   "metadata": {},
   "outputs": [],
   "source": [
    "df_train['marital_status_maried(Y/N)'].value_counts()"
   ]
  },
  {
   "cell_type": "code",
   "execution_count": null,
   "metadata": {},
   "outputs": [],
   "source": [
    "plt.figure(figsize=(16,6))\n",
    "\n",
    "plt.subplot(121)\n",
    "plt.title('Jumlah Employee Berdasarkan Marital Status', fontsize=14, fontweight='bold')\n",
    "sns.countplot(df_train['marital_status_maried(Y/N)'].sort_values(ascending=False))\n",
    "plt.subplot(122)\n",
    "plt.title('Proporsi Jumlah Employee Berdasarkan Marital Status', fontsize=14, fontweight='bold')\n",
    "plt.pie(df_train['marital_status_maried(Y/N)'].value_counts().sort_values(ascending=False), \n",
    "        autopct='%.0f%%', startangle=90, \n",
    "       labels=df_train['marital_status_maried(Y/N)'].value_counts().sort_values(ascending=False).index,\n",
    "       textprops={'color':'white', 'fontweight':'bold', 'fontsize':11})\n",
    "plt.legend(loc='lower center', ncol=4)\n",
    "plt.show()"
   ]
  },
  {
   "cell_type": "code",
   "execution_count": null,
   "metadata": {},
   "outputs": [],
   "source": [
    "plt.figure(figsize=(16,10))\n",
    "plt.suptitle('Jumlah dan Proporsi Marital Status Employee\\n Berdasarkan Job Level nya', \n",
    "             fontsize=14, fontweight='bold')\n",
    "for i in range(len(JG)):\n",
    "    plt.subplot(2,3,i+1)\n",
    "    plt.title(JG[i], fontweight='bold', fontsize=13)\n",
    "    sns.countplot(df_train[df_train['job_level']==JG[i]]['marital_status_maried(Y/N)'])\n",
    "    plt.subplot(2,3,i+4)\n",
    "    plt.pie(df_train[df_train['job_level']==JG[i]]['marital_status_maried(Y/N)'].value_counts(), \n",
    "            autopct='%.1f%%', startangle=30, \n",
    "            labels=df_train[df_train['job_level']==JG[i]]['marital_status_maried(Y/N)'].value_counts().index, \n",
    "            textprops={'color':'white', 'fontweight':'bold', 'fontsize':11})\n",
    "    plt.legend(loc='lower center', ncol=4)"
   ]
  },
  {
   "cell_type": "code",
   "execution_count": null,
   "metadata": {},
   "outputs": [],
   "source": []
  },
  {
   "cell_type": "markdown",
   "metadata": {},
   "source": [
    "### number_of_dependences\n",
    "\n",
    "Jumlah anak dalam tanggungan"
   ]
  },
  {
   "cell_type": "code",
   "execution_count": null,
   "metadata": {},
   "outputs": [],
   "source": [
    "df_train['number_of_dependences'].value_counts()"
   ]
  },
  {
   "cell_type": "code",
   "execution_count": null,
   "metadata": {},
   "outputs": [],
   "source": [
    "plt.figure(figsize=(16,10))\n",
    "plt.suptitle('Jumlah dan Proporsi Tanggungan Anak Employee\\n Berdasarkan Job Level nya', \n",
    "             fontsize=14, fontweight='bold')\n",
    "for i in range(len(JG)):\n",
    "    plt.subplot(2,3,i+1)\n",
    "    plt.title(JG[i], fontweight='bold', fontsize=13)\n",
    "    sns.countplot(df_train[df_train['job_level']==JG[i]]['number_of_dependences'])\n",
    "    plt.subplot(2,3,i+4)\n",
    "    plt.pie(df_train[df_train['job_level']==JG[i]]['number_of_dependences'].value_counts().sort_index(), \n",
    "            autopct='%.1f%%', startangle=30, \n",
    "            labels=df_train[df_train['job_level']==JG[i]]['number_of_dependences'].value_counts().sort_index().index, \n",
    "            textprops={'color':'white', 'fontweight':'bold', 'fontsize':11})\n",
    "    plt.legend(loc='lower center', ncol=4)"
   ]
  },
  {
   "cell_type": "markdown",
   "metadata": {},
   "source": [
    "### Education_level\n",
    "\n",
    "Tingkat Pendidikan"
   ]
  },
  {
   "cell_type": "code",
   "execution_count": null,
   "metadata": {},
   "outputs": [],
   "source": [
    "df_train['Education_level'].value_counts()"
   ]
  },
  {
   "cell_type": "code",
   "execution_count": null,
   "metadata": {},
   "outputs": [],
   "source": [
    "plt.figure(figsize=(16,6))\n",
    "\n",
    "plt.subplot(121)\n",
    "plt.title('Jumlah Employee Berdasarkan Tingkat Pendidikan', fontsize=14, fontweight='bold')\n",
    "sns.countplot(df_train['Education_level'].sort_index())\n",
    "plt.subplot(122)\n",
    "plt.title('Proporsi Jumlah Employee Berdasarkan Marital Status', fontsize=14, fontweight='bold')\n",
    "plt.pie(df_train['Education_level'].value_counts().sort_index(), \n",
    "        autopct='%.0f%%', startangle=90, \n",
    "       labels=df_train['Education_level'].value_counts().sort_index().index,\n",
    "       textprops={'color':'white', 'fontweight':'bold', 'fontsize':11})\n",
    "plt.legend(loc='lower center', ncol=4)\n",
    "plt.show()"
   ]
  },
  {
   "cell_type": "markdown",
   "metadata": {},
   "source": [
    "**Hipotesis**\n",
    "\n",
    "- level_0 : SMA\n",
    "- level_1 : D1\n",
    "- level_2 : D2\n",
    "- level_3 : D3\n",
    "- level_4 : D4 / S1\n",
    "- level_5 : S2"
   ]
  },
  {
   "cell_type": "code",
   "execution_count": 2,
   "metadata": {},
   "outputs": [
    {
     "ename": "NameError",
     "evalue": "name 'plt' is not defined",
     "output_type": "error",
     "traceback": [
      "\u001b[1;31m---------------------------------------------------------------------------\u001b[0m",
      "\u001b[1;31mNameError\u001b[0m                                 Traceback (most recent call last)",
      "\u001b[1;32m<ipython-input-2-0ccc025517b5>\u001b[0m in \u001b[0;36m<module>\u001b[1;34m\u001b[0m\n\u001b[1;32m----> 1\u001b[1;33m \u001b[0mplt\u001b[0m\u001b[1;33m.\u001b[0m\u001b[0mfigure\u001b[0m\u001b[1;33m(\u001b[0m\u001b[0mfigsize\u001b[0m\u001b[1;33m=\u001b[0m\u001b[1;33m(\u001b[0m\u001b[1;36m16\u001b[0m\u001b[1;33m,\u001b[0m\u001b[1;36m10\u001b[0m\u001b[1;33m)\u001b[0m\u001b[1;33m)\u001b[0m\u001b[1;33m\u001b[0m\u001b[1;33m\u001b[0m\u001b[0m\n\u001b[0m\u001b[0;32m      2\u001b[0m plt.suptitle('Jumlah dan Proporsi Tingkat Pendidikan Employee\\n Berdasarkan Job Level nya', \n\u001b[0;32m      3\u001b[0m              fontsize=14, fontweight='bold')\n\u001b[0;32m      4\u001b[0m \u001b[1;32mfor\u001b[0m \u001b[0mi\u001b[0m \u001b[1;32min\u001b[0m \u001b[0mrange\u001b[0m\u001b[1;33m(\u001b[0m\u001b[0mlen\u001b[0m\u001b[1;33m(\u001b[0m\u001b[0mJG\u001b[0m\u001b[1;33m)\u001b[0m\u001b[1;33m)\u001b[0m\u001b[1;33m:\u001b[0m\u001b[1;33m\u001b[0m\u001b[1;33m\u001b[0m\u001b[0m\n\u001b[0;32m      5\u001b[0m     \u001b[0mplt\u001b[0m\u001b[1;33m.\u001b[0m\u001b[0msubplot\u001b[0m\u001b[1;33m(\u001b[0m\u001b[1;36m2\u001b[0m\u001b[1;33m,\u001b[0m\u001b[1;36m3\u001b[0m\u001b[1;33m,\u001b[0m\u001b[0mi\u001b[0m\u001b[1;33m+\u001b[0m\u001b[1;36m1\u001b[0m\u001b[1;33m)\u001b[0m\u001b[1;33m\u001b[0m\u001b[1;33m\u001b[0m\u001b[0m\n",
      "\u001b[1;31mNameError\u001b[0m: name 'plt' is not defined"
     ]
    }
   ],
   "source": [
    "plt.figure(figsize=(16,10))\n",
    "plt.suptitle('Jumlah dan Proporsi Tingkat Pendidikan Employee\\n Berdasarkan Job Level nya', \n",
    "             fontsize=14, fontweight='bold')\n",
    "for i in range(len(JG)):\n",
    "    plt.subplot(2,3,i+1)\n",
    "    plt.title(JG[i], fontweight='bold', fontsize=13)\n",
    "    sns.countplot(df_train[df_train['job_level']==JG[i]]['Education_level'])\n",
    "    plt.subplot(2,3,i+4)\n",
    "    plt.pie(df_train[df_train['job_level']==JG[i]]['Education_level'].value_counts().sort_index(), \n",
    "            autopct='%.1f%%', startangle=30, \n",
    "            labels=df_train[df_train['job_level']==JG[i]]['Education_level'].value_counts().sort_index().index, \n",
    "            textprops={'color':'white', 'fontweight':'bold', 'fontsize':11})\n",
    "    plt.legend(loc='lower center', ncol=4)"
   ]
  },
  {
   "cell_type": "markdown",
   "metadata": {},
   "source": [
    "### GPA\n",
    "\n",
    "IPK"
   ]
  },
  {
   "cell_type": "code",
   "execution_count": null,
   "metadata": {},
   "outputs": [],
   "source": [
    "df_train['GPA'].value_counts()"
   ]
  },
  {
   "cell_type": "code",
   "execution_count": null,
   "metadata": {},
   "outputs": [],
   "source": [
    "plt.figure(figsize=(12,6))\n",
    "plt.title('Distribusi IPK Employee', fontsize=13, fontweight='bold')\n",
    "df_train['GPA'].hist(bins=20)\n",
    "plt.xlabel('IPK')\n",
    "plt.xlabel('Jumlah Employee')\n",
    "plt.show()"
   ]
  },
  {
   "cell_type": "markdown",
   "metadata": {},
   "source": [
    "Distribusi nilai IPK di atas tidak normal. Karena nilai Maksimum IPK adalah 4.00"
   ]
  },
  {
   "cell_type": "code",
   "execution_count": null,
   "metadata": {},
   "outputs": [],
   "source": [
    "plt.figure(figsize=(12,6))\n",
    "plt.title('Distribusi IPK Employee', fontsize=13, fontweight='bold')\n",
    "plt.boxplot(df_train['GPA'])\n",
    "plt.ylabel('IPK')\n",
    "plt.show()"
   ]
  },
  {
   "cell_type": "markdown",
   "metadata": {},
   "source": [
    "Checking nilai IPK diatas 4.00"
   ]
  },
  {
   "cell_type": "code",
   "execution_count": null,
   "metadata": {},
   "outputs": [],
   "source": [
    "df_train[df_train['GPA']>4.00]['GPA'].sort_values(ascending=False)"
   ]
  },
  {
   "cell_type": "markdown",
   "metadata": {},
   "source": [
    "Nilai IPK tersebut tidak normal. Asumsi adalah nilai-nilai IPK tersebut salah input."
   ]
  },
  {
   "cell_type": "code",
   "execution_count": null,
   "metadata": {},
   "outputs": [],
   "source": [
    "# Check siapa saja yang memiliki IPK diatas 4.00. lihat kolom Best Performance\n",
    "df_train[df_train['GPA']>4.00]['Best Performance'].value_counts()"
   ]
  },
  {
   "cell_type": "code",
   "execution_count": null,
   "metadata": {},
   "outputs": [],
   "source": [
    "# Check siapa saja yang memiliki IPK diatas 4.00. lihat kolom job level\n",
    "df_train[df_train['GPA']>4.00]['job_level'].value_counts()"
   ]
  },
  {
   "cell_type": "code",
   "execution_count": null,
   "metadata": {},
   "outputs": [],
   "source": [
    "#Check Prosentase data IPK yang salah input\n",
    "print(f\"Jumlah baris data yang kemungkinan salah input IPK : {len(df_train[df_train['GPA']>4.00])}\")\n",
    "print(f\"Presentase jumlah baris data yang kemungkinan salah input IPK : {round((len(df_train[df_train['GPA']>4.00])/len(df_train)*100),2)}%\")\n"
   ]
  },
  {
   "cell_type": "markdown",
   "metadata": {},
   "source": [
    "**Presentase salah inputnya sangat kecil dibandingkan junlah data keseluruhan. Hanya 0.47%. Data tersebut bisa kita drop**"
   ]
  },
  {
   "cell_type": "code",
   "execution_count": null,
   "metadata": {},
   "outputs": [],
   "source": [
    "data_gpa = df_train[df_train['GPA']<=4.00]"
   ]
  },
  {
   "cell_type": "code",
   "execution_count": null,
   "metadata": {},
   "outputs": [],
   "source": [
    "plt.figure(figsize=(12,6))\n",
    "plt.title('Distribusi IPK Employee', fontsize=13, fontweight='bold')\n",
    "data_gpa['GPA'].hist(bins=20)\n",
    "plt.xlabel('IPK')\n",
    "plt.ylabel('Jumlah Employee')\n",
    "plt.show()"
   ]
  },
  {
   "cell_type": "markdown",
   "metadata": {},
   "source": [
    "Setelah tidak mengikutsertakan data yang kemungkinan salah input pada kolom IPK, didapatkan insight berupa terdapat 2000an Employee yng memiliki IPK di bawah 1 atau mendekati 0"
   ]
  },
  {
   "cell_type": "code",
   "execution_count": null,
   "metadata": {},
   "outputs": [],
   "source": [
    "plt.figure(figsize=(12,6))\n",
    "plt.title('Distribusi IPK Employee', fontsize=13, fontweight='bold')\n",
    "plt.boxplot(data_gpa['GPA'])\n",
    "plt.ylabel('IPK')\n",
    "plt.show()"
   ]
  },
  {
   "cell_type": "code",
   "execution_count": null,
   "metadata": {},
   "outputs": [],
   "source": [
    "#Check berapa banyak yang memiliki IPK di bawah 1\n",
    "data_gpa[data_gpa['GPA']<1]['GPA'].value_counts()"
   ]
  },
  {
   "cell_type": "code",
   "execution_count": null,
   "metadata": {},
   "outputs": [],
   "source": [
    "# Check siapa saja yang memiliki IPK diatas 4.00. lihat kolom Best Performance\n",
    "df_train[df_train['GPA']<1.00]['Best Performance'].value_counts()"
   ]
  },
  {
   "cell_type": "code",
   "execution_count": null,
   "metadata": {},
   "outputs": [],
   "source": [
    "# Check siapa saja yang memiliki IPK diatas 4.00. lihat kolom job level\n",
    "df_train[df_train['GPA']<1.00]['job_level'].value_counts()"
   ]
  },
  {
   "cell_type": "code",
   "execution_count": null,
   "metadata": {},
   "outputs": [],
   "source": [
    "#Check Prosentase data IPK yang salah input\n",
    "print(f\"Jumlah baris data yang kemungkinan salah input IPK : {len(data_gpa[data_gpa['GPA']<1.00])}\")\n",
    "print(f\"Presentase jumlah baris data yang kemungkinan salah input IPK : {round((len(df_train[df_train['GPA']<1.00])/len(df_train)*100),2)}%\")\n"
   ]
  },
  {
   "cell_type": "markdown",
   "metadata": {},
   "source": [
    "**Ada 19.27% Employee yang memiliki IPK 0.0 atau 0.3** \n",
    "\n",
    "Data tersebut tidak normal. Namun jika dilakukan dropping. maka kita akan kehilangan cukup banyak data. sekitar 19% data akan hilang"
   ]
  },
  {
   "cell_type": "markdown",
   "metadata": {},
   "source": [
    "**Kita lakukan analisa visual data kolom IPK dengan tidak menyertakan data yang salah input dan menyertakan data IPK 0.0 dan 0.3**"
   ]
  },
  {
   "cell_type": "code",
   "execution_count": null,
   "metadata": {},
   "outputs": [],
   "source": [
    "plt.figure(figsize=(16,5))\n",
    "plt.suptitle('Distribusi nilai IPK Employee Berdasarkan job_level', fontsize=14, fontweight='bold')\n",
    "for x in range(len(JG)) :\n",
    "    plt.subplot(1,3,x+1)\n",
    "    plt.title('JG0'+str(3+x), fontsize=13)\n",
    "    data_gpa[data_gpa['job_level']==JG[x]]['GPA'].hist(bins=20, color=color[x])\n",
    "    plt.xlabel('IPK')\n",
    "    plt.ylabel('Jumlah Employee')"
   ]
  },
  {
   "cell_type": "markdown",
   "metadata": {},
   "source": [
    "**Kita lakukan analisa visual data kolom IPK dengan tidak menyertakan data yang salah input data IPK 0.0 & 0.3**"
   ]
  },
  {
   "cell_type": "code",
   "execution_count": null,
   "metadata": {},
   "outputs": [],
   "source": [
    "normal_gpa = df_train[(df_train['GPA']<=4.00) & (df_train['GPA']>1.00)]\n",
    "normal_gpa['GPA'].describe()"
   ]
  },
  {
   "cell_type": "code",
   "execution_count": null,
   "metadata": {},
   "outputs": [],
   "source": [
    "plt.figure(figsize=(16,6.5))\n",
    "plt.suptitle('Distribusi nilai IPK Employee Berdasarkan job_level\\n (Diluar data IPK >4 & 0)', fontsize=14, fontweight='bold')\n",
    "for x in range(len(JG)) :\n",
    "    plt.subplot(1,3,x+1)\n",
    "    plt.title('JG0'+str(3+x), fontsize=13)\n",
    "    normal_gpa[normal_gpa['job_level']==JG[x]]['GPA'].hist(bins=20, color=color[x])\n",
    "    plt.xlabel('IPK')\n",
    "    plt.ylabel('Jumlah Employee')"
   ]
  },
  {
   "cell_type": "code",
   "execution_count": 3,
   "metadata": {},
   "outputs": [
    {
     "ename": "NameError",
     "evalue": "name 'plt' is not defined",
     "output_type": "error",
     "traceback": [
      "\u001b[1;31m---------------------------------------------------------------------------\u001b[0m",
      "\u001b[1;31mNameError\u001b[0m                                 Traceback (most recent call last)",
      "\u001b[1;32m<ipython-input-3-6d65a4853457>\u001b[0m in \u001b[0;36m<module>\u001b[1;34m\u001b[0m\n\u001b[1;32m----> 1\u001b[1;33m \u001b[0mplt\u001b[0m\u001b[1;33m.\u001b[0m\u001b[0mfigure\u001b[0m\u001b[1;33m(\u001b[0m\u001b[0mfigsize\u001b[0m\u001b[1;33m=\u001b[0m\u001b[1;33m(\u001b[0m\u001b[1;36m16\u001b[0m\u001b[1;33m,\u001b[0m\u001b[1;36m6.5\u001b[0m\u001b[1;33m)\u001b[0m\u001b[1;33m)\u001b[0m\u001b[1;33m\u001b[0m\u001b[1;33m\u001b[0m\u001b[0m\n\u001b[0m\u001b[0;32m      2\u001b[0m \u001b[0mplt\u001b[0m\u001b[1;33m.\u001b[0m\u001b[0msuptitle\u001b[0m\u001b[1;33m(\u001b[0m\u001b[1;34m'Boxplot nilai IPK Employee Berdasarkan job_level\\n (Diluar data IPK >4 & 0)'\u001b[0m\u001b[1;33m,\u001b[0m \u001b[0mfontsize\u001b[0m\u001b[1;33m=\u001b[0m\u001b[1;36m14\u001b[0m\u001b[1;33m,\u001b[0m \u001b[0mfontweight\u001b[0m\u001b[1;33m=\u001b[0m\u001b[1;34m'bold'\u001b[0m\u001b[1;33m)\u001b[0m\u001b[1;33m\u001b[0m\u001b[1;33m\u001b[0m\u001b[0m\n\u001b[0;32m      3\u001b[0m \u001b[1;32mfor\u001b[0m \u001b[0mx\u001b[0m \u001b[1;32min\u001b[0m \u001b[0mrange\u001b[0m\u001b[1;33m(\u001b[0m\u001b[0mlen\u001b[0m\u001b[1;33m(\u001b[0m\u001b[0mJG\u001b[0m\u001b[1;33m)\u001b[0m\u001b[1;33m)\u001b[0m \u001b[1;33m:\u001b[0m\u001b[1;33m\u001b[0m\u001b[1;33m\u001b[0m\u001b[0m\n\u001b[0;32m      4\u001b[0m     \u001b[0mplt\u001b[0m\u001b[1;33m.\u001b[0m\u001b[0msubplot\u001b[0m\u001b[1;33m(\u001b[0m\u001b[1;36m1\u001b[0m\u001b[1;33m,\u001b[0m\u001b[1;36m3\u001b[0m\u001b[1;33m,\u001b[0m\u001b[0mx\u001b[0m\u001b[1;33m+\u001b[0m\u001b[1;36m1\u001b[0m\u001b[1;33m)\u001b[0m\u001b[1;33m\u001b[0m\u001b[1;33m\u001b[0m\u001b[0m\n\u001b[0;32m      5\u001b[0m     \u001b[0mplt\u001b[0m\u001b[1;33m.\u001b[0m\u001b[0mtitle\u001b[0m\u001b[1;33m(\u001b[0m\u001b[1;34m'JG0'\u001b[0m\u001b[1;33m+\u001b[0m\u001b[0mstr\u001b[0m\u001b[1;33m(\u001b[0m\u001b[1;36m3\u001b[0m\u001b[1;33m+\u001b[0m\u001b[0mx\u001b[0m\u001b[1;33m)\u001b[0m\u001b[1;33m,\u001b[0m \u001b[0mfontsize\u001b[0m\u001b[1;33m=\u001b[0m\u001b[1;36m13\u001b[0m\u001b[1;33m)\u001b[0m\u001b[1;33m\u001b[0m\u001b[1;33m\u001b[0m\u001b[0m\n",
      "\u001b[1;31mNameError\u001b[0m: name 'plt' is not defined"
     ]
    }
   ],
   "source": [
    "plt.figure(figsize=(16,6.5))\n",
    "plt.suptitle('Boxplot nilai IPK Employee Berdasarkan job_level\\n (Diluar data IPK >4 & 0)', fontsize=14, fontweight='bold')\n",
    "for x in range(len(JG)) :\n",
    "    plt.subplot(1,3,x+1)\n",
    "    plt.title('JG0'+str(3+x), fontsize=13)\n",
    "    plt.boxplot(normal_gpa[normal_gpa['job_level']==JG[x]]['GPA'])\n",
    "    plt.xlabel('IPK')\n",
    "    plt.ylabel('Jumlah Employee')"
   ]
  },
  {
   "cell_type": "code",
   "execution_count": null,
   "metadata": {},
   "outputs": [],
   "source": [
    "jg03_normal_gpa = normal_gpa[normal_gpa['job_level']=='JG03']['GPA']\n",
    "jg03_normal_gpa.describe()"
   ]
  },
  {
   "cell_type": "code",
   "execution_count": null,
   "metadata": {},
   "outputs": [],
   "source": [
    "jg04_normal_gpa = normal_gpa[normal_gpa['job_level']=='JG04']['GPA']\n",
    "jg04_normal_gpa.describe()"
   ]
  },
  {
   "cell_type": "code",
   "execution_count": null,
   "metadata": {},
   "outputs": [],
   "source": [
    "jg05_normal_gpa = normal_gpa[normal_gpa['job_level']=='JG05']['GPA']\n",
    "jg05_normal_gpa.describe()"
   ]
  },
  {
   "cell_type": "code",
   "execution_count": null,
   "metadata": {},
   "outputs": [],
   "source": []
  },
  {
   "cell_type": "markdown",
   "metadata": {},
   "source": [
    "### Job Duration From Training\n",
    "\n",
    "Lama bekerja mulai dari training"
   ]
  },
  {
   "cell_type": "code",
   "execution_count": null,
   "metadata": {},
   "outputs": [],
   "source": [
    "df_train['job_duration_from_training']"
   ]
  },
  {
   "cell_type": "code",
   "execution_count": null,
   "metadata": {},
   "outputs": [],
   "source": [
    "plt.figure(figsize=(12,6))\n",
    "plt.title('Distribusi Lama Kerja Employee Mulai dari Training', fontsize=13, fontweight='bold')\n",
    "df_train['job_duration_from_training'].hist(bins=20)\n",
    "plt.xlabel('Lama Masa Kerja')\n",
    "plt.ylabel('Jumlah Employee')\n",
    "plt.show()"
   ]
  },
  {
   "cell_type": "code",
   "execution_count": null,
   "metadata": {},
   "outputs": [],
   "source": [
    "plt.figure(figsize=(16,5))\n",
    "plt.suptitle('Distribusi Lama Bekerja dari Training Berdasarkan job_level', fontsize=16, fontweight='bold')\n",
    "for i in range(len(JG)):\n",
    "    plt.subplot(1,3,i+1)\n",
    "    plt.title(JG[i], fontweight='bold')\n",
    "    df_train[df_train['job_level']==JG[i]]['job_duration_from_training'].hist(bins=15,color=color[i])\n",
    "    plt.xlabel('Masa Kerja')\n",
    "    plt.ylabel('Jumlah Employee')\n",
    "plt.show()"
   ]
  },
  {
   "cell_type": "markdown",
   "metadata": {},
   "source": [
    "### Branch Rotation\n",
    "\n",
    "Jumlah rotasi pindah unit kerja"
   ]
  },
  {
   "cell_type": "code",
   "execution_count": null,
   "metadata": {},
   "outputs": [],
   "source": [
    "df_train['branch_rotation'].value_counts().sort_index()"
   ]
  },
  {
   "cell_type": "code",
   "execution_count": null,
   "metadata": {},
   "outputs": [],
   "source": [
    "plt.figure(figsize=(12,6))\n",
    "plt.title('Jumlah Rotasi Pindah Unit Kerja Employee', fontsize=13, fontweight='bold')\n",
    "plt.bar(df_train['branch_rotation'].value_counts().sort_index().index, \n",
    "        df_train['branch_rotation'].value_counts().sort_index().values,\n",
    "       color=color)\n",
    "plt.xlabel('Jumlah Rotasi Pindah Unit Kerja (Cabang)')\n",
    "plt.ylabel('Jumlah Employee')\n",
    "plt.show()"
   ]
  },
  {
   "cell_type": "code",
   "execution_count": null,
   "metadata": {},
   "outputs": [],
   "source": [
    "plt.figure(figsize=(16,5))\n",
    "plt.suptitle('Distribusi Jumlah Rotasi Pindah Unit Kerja Berdasarkan job_level', fontsize=16, fontweight='bold')\n",
    "for i in range(len(JG)):\n",
    "    plt.subplot(1,3,i+1)\n",
    "    plt.title(JG[i], fontweight='bold')\n",
    "    df_train[df_train['job_level']==JG[i]]['branch_rotation'].hist(bins=15,color=color[i])\n",
    "    plt.xlabel('Jumlah Rotasi Unit Kerja')\n",
    "    plt.ylabel('Jumlah Employee')\n",
    "plt.show()"
   ]
  },
  {
   "cell_type": "markdown",
   "metadata": {},
   "source": [
    "### Job Rotation\n",
    "\n",
    "Jumlah rotasi pindah jabatan"
   ]
  },
  {
   "cell_type": "code",
   "execution_count": null,
   "metadata": {},
   "outputs": [],
   "source": [
    "df_train['job_rotation'].value_counts().sort_index()"
   ]
  },
  {
   "cell_type": "code",
   "execution_count": null,
   "metadata": {},
   "outputs": [],
   "source": [
    "plt.figure(figsize=(12,6))\n",
    "plt.title('Jumlah Rotasi Pindah Jabatan Employee', fontsize=13, fontweight='bold')\n",
    "plt.bar(df_train['job_rotation'].value_counts().sort_index().index, \n",
    "        df_train['job_rotation'].value_counts().sort_index().values,\n",
    "       color=color)\n",
    "plt.xlabel('Jumlah Rotasi Pindah Jabatan')\n",
    "plt.ylabel('Jumlah Employee')\n",
    "plt.show()"
   ]
  },
  {
   "cell_type": "code",
   "execution_count": null,
   "metadata": {},
   "outputs": [],
   "source": [
    "plt.figure(figsize=(16,5))\n",
    "plt.suptitle('Distribusi Jumlah Rotasi Pindah Jabatan Berdasarkan job_level', fontsize=16, fontweight='bold')\n",
    "for i in range(len(JG)):\n",
    "    plt.subplot(1,3,i+1)\n",
    "    plt.title(JG[i], fontweight='bold')\n",
    "    plt.bar(df_train[df_train['job_level']==JG[i]]['job_rotation'].value_counts().index,\n",
    "            df_train[df_train['job_level']==JG[i]]['job_rotation'].value_counts().values,color=color[i])\n",
    "    plt.xlabel('Jumlah Rotasi Jabatan')\n",
    "    plt.ylabel('Jumlah Employee')\n",
    "plt.show()"
   ]
  },
  {
   "cell_type": "markdown",
   "metadata": {},
   "source": [
    "### Assign Other Position\n",
    "\n",
    "Jumlah rotasi penugasan"
   ]
  },
  {
   "cell_type": "code",
   "execution_count": null,
   "metadata": {},
   "outputs": [],
   "source": [
    "df_train['assign_of_otherposition'].value_counts().sort_index()"
   ]
  },
  {
   "cell_type": "code",
   "execution_count": null,
   "metadata": {},
   "outputs": [],
   "source": [
    "plt.figure(figsize=(12,6))\n",
    "plt.title('Jumlah Rotasi Penugasan Employee', fontsize=13, fontweight='bold')\n",
    "plt.bar(df_train['assign_of_otherposition'].value_counts().sort_index().index, \n",
    "        df_train['assign_of_otherposition'].value_counts().sort_index().values,\n",
    "       color=color)\n",
    "plt.xlabel('Jumlah Rotasi Penugasan')\n",
    "plt.ylabel('Jumlah Employee')\n",
    "plt.show()"
   ]
  },
  {
   "cell_type": "code",
   "execution_count": null,
   "metadata": {},
   "outputs": [],
   "source": [
    "plt.figure(figsize=(16,5))\n",
    "plt.suptitle('Distribusi Jumlah Rotasi Penugasan Berdasarkan job_level', fontsize=16, fontweight='bold')\n",
    "for i in range(len(JG)):\n",
    "    plt.subplot(1,3,i+1)\n",
    "    plt.title(JG[i], fontweight='bold')\n",
    "    plt.bar(df_train[df_train['job_level']==JG[i]]['assign_of_otherposition'].value_counts().index,\n",
    "            df_train[df_train['job_level']==JG[i]]['assign_of_otherposition'].value_counts().values,color=color[i])\n",
    "    plt.xlabel('Jumlah Rotasi Penugasan')\n",
    "    plt.ylabel('Jumlah Employee')\n",
    "plt.show()"
   ]
  },
  {
   "cell_type": "markdown",
   "metadata": {},
   "source": [
    "### Annual Leave\n",
    "\n",
    "Jumlah Cuti Tahunan"
   ]
  },
  {
   "cell_type": "code",
   "execution_count": null,
   "metadata": {},
   "outputs": [],
   "source": [
    "df_train['annual leave'].value_counts().sort_index()"
   ]
  },
  {
   "cell_type": "code",
   "execution_count": null,
   "metadata": {},
   "outputs": [],
   "source": [
    "plt.figure(figsize=(12,6))\n",
    "plt.title('Jumlah Cuti Tahunan Employee', fontsize=13, fontweight='bold')\n",
    "plt.bar(df_train['annual leave'].value_counts().sort_index().index, \n",
    "        df_train['annual leave'].value_counts().sort_index().values,\n",
    "       color=color)\n",
    "plt.xlabel('Jumlah Cuti')\n",
    "plt.ylabel('Jumlah Employee')\n",
    "plt.show()"
   ]
  },
  {
   "cell_type": "code",
   "execution_count": null,
   "metadata": {},
   "outputs": [],
   "source": [
    "plt.figure(figsize=(16,5))\n",
    "plt.suptitle('Distribusi Jumlah Cuti Berdasarkan job_level', fontsize=16, fontweight='bold')\n",
    "for i in range(len(JG)):\n",
    "    plt.subplot(1,3,i+1)\n",
    "    plt.title(JG[i], fontweight='bold')\n",
    "    plt.bar(df_train[df_train['job_level']==JG[i]]['annual leave'].value_counts().index,\n",
    "            df_train[df_train['job_level']==JG[i]]['annual leave'].value_counts().values,color=color[i])\n",
    "    plt.xlabel('Jumlah Rotasi Penugasan')\n",
    "    plt.ylabel('Jumlah Employee')\n",
    "plt.show()"
   ]
  },
  {
   "cell_type": "markdown",
   "metadata": {},
   "source": [
    "### Sick Leaves\n",
    "\n",
    "Jumlah Izin Sakit"
   ]
  },
  {
   "cell_type": "code",
   "execution_count": null,
   "metadata": {},
   "outputs": [],
   "source": [
    "df_train['sick_leaves']"
   ]
  },
  {
   "cell_type": "code",
   "execution_count": null,
   "metadata": {},
   "outputs": [],
   "source": [
    "plt.figure(figsize=(12,6))\n",
    "plt.title('Distribusi Jumlah Izin sakit Employee', fontsize=13, fontweight='bold')\n",
    "df_train['sick_leaves'].hist(bins=20)\n",
    "plt.xlabel('Jumlah Izin Sakit')\n",
    "plt.ylabel('Jumlah Employee')\n",
    "plt.show()"
   ]
  },
  {
   "cell_type": "code",
   "execution_count": null,
   "metadata": {},
   "outputs": [],
   "source": [
    "plt.figure(figsize=(16,5))\n",
    "plt.suptitle('Distribusi Jumlah Izin Sakit Employee Berdasarkan job_level', fontsize=16, fontweight='bold')\n",
    "for i in range(len(JG)):\n",
    "    plt.subplot(1,3,i+1)\n",
    "    plt.title(JG[i], fontweight='bold')\n",
    "    df_train[df_train['job_level']==JG[i]]['sick_leaves'].hist(bins=20,color=color[i])\n",
    "    plt.xlabel('Jumlah Izin Sakit')\n",
    "    plt.ylabel('Jumlah Employee')\n",
    "plt.show()"
   ]
  },
  {
   "cell_type": "markdown",
   "metadata": {},
   "source": [
    "### Last Achievement\n",
    "\n",
    "Presentase pencapaian triwulan terakhir terhadap target"
   ]
  },
  {
   "cell_type": "code",
   "execution_count": 4,
   "metadata": {},
   "outputs": [
    {
     "ename": "NameError",
     "evalue": "name 'plt' is not defined",
     "output_type": "error",
     "traceback": [
      "\u001b[1;31m---------------------------------------------------------------------------\u001b[0m",
      "\u001b[1;31mNameError\u001b[0m                                 Traceback (most recent call last)",
      "\u001b[1;32m<ipython-input-4-e1948161e33d>\u001b[0m in \u001b[0;36m<module>\u001b[1;34m\u001b[0m\n\u001b[1;32m----> 1\u001b[1;33m \u001b[0mplt\u001b[0m\u001b[1;33m.\u001b[0m\u001b[0mfigure\u001b[0m\u001b[1;33m(\u001b[0m\u001b[0mfigsize\u001b[0m\u001b[1;33m=\u001b[0m\u001b[1;33m(\u001b[0m\u001b[1;36m12\u001b[0m\u001b[1;33m,\u001b[0m\u001b[1;36m6\u001b[0m\u001b[1;33m)\u001b[0m\u001b[1;33m)\u001b[0m\u001b[1;33m\u001b[0m\u001b[1;33m\u001b[0m\u001b[0m\n\u001b[0m\u001b[0;32m      2\u001b[0m \u001b[0mplt\u001b[0m\u001b[1;33m.\u001b[0m\u001b[0mtitle\u001b[0m\u001b[1;33m(\u001b[0m\u001b[1;34m'Distribusi Capaian Kerja Employee Terhadap Target\\n Triwulan Terkahir'\u001b[0m\u001b[1;33m,\u001b[0m \u001b[0mfontsize\u001b[0m\u001b[1;33m=\u001b[0m\u001b[1;36m13\u001b[0m\u001b[1;33m,\u001b[0m \u001b[0mfontweight\u001b[0m\u001b[1;33m=\u001b[0m\u001b[1;34m'bold'\u001b[0m\u001b[1;33m)\u001b[0m\u001b[1;33m\u001b[0m\u001b[1;33m\u001b[0m\u001b[0m\n\u001b[0;32m      3\u001b[0m \u001b[0mdf_train\u001b[0m\u001b[1;33m[\u001b[0m\u001b[1;34m'Last_achievement_%'\u001b[0m\u001b[1;33m]\u001b[0m\u001b[1;33m.\u001b[0m\u001b[0mhist\u001b[0m\u001b[1;33m(\u001b[0m\u001b[0mbins\u001b[0m\u001b[1;33m=\u001b[0m\u001b[1;36m20\u001b[0m\u001b[1;33m)\u001b[0m\u001b[1;33m\u001b[0m\u001b[1;33m\u001b[0m\u001b[0m\n\u001b[0;32m      4\u001b[0m \u001b[0mplt\u001b[0m\u001b[1;33m.\u001b[0m\u001b[0mxlabel\u001b[0m\u001b[1;33m(\u001b[0m\u001b[1;34m'Capaian Kinerja (dalam %)'\u001b[0m\u001b[1;33m)\u001b[0m\u001b[1;33m\u001b[0m\u001b[1;33m\u001b[0m\u001b[0m\n\u001b[0;32m      5\u001b[0m \u001b[0mplt\u001b[0m\u001b[1;33m.\u001b[0m\u001b[0mylabel\u001b[0m\u001b[1;33m(\u001b[0m\u001b[1;34m'Jumlah Employee'\u001b[0m\u001b[1;33m)\u001b[0m\u001b[1;33m\u001b[0m\u001b[1;33m\u001b[0m\u001b[0m\n",
      "\u001b[1;31mNameError\u001b[0m: name 'plt' is not defined"
     ]
    }
   ],
   "source": [
    "plt.figure(figsize=(12,6))\n",
    "plt.title('Distribusi Capaian Kerja Employee Terhadap Target\\n Triwulan Terkahir', fontsize=13, fontweight='bold')\n",
    "df_train['Last_achievement_%'].hist(bins=20)\n",
    "plt.xlabel('Capaian Kinerja (dalam %)')\n",
    "plt.ylabel('Jumlah Employee')\n",
    "plt.show()"
   ]
  },
  {
   "cell_type": "code",
   "execution_count": null,
   "metadata": {},
   "outputs": [],
   "source": [
    "plt.figure(figsize=(12,6))\n",
    "plt.title('Distribusi Capaian Kinerja Employee', fontsize=13, fontweight='bold')\n",
    "plt.boxplot(df_train['Last_achievement_%'])\n",
    "plt.ylabel('Capaian Kinerja %')\n",
    "plt.show()\n",
    "plt.show()"
   ]
  },
  {
   "cell_type": "code",
   "execution_count": null,
   "metadata": {},
   "outputs": [],
   "source": [
    "plt.figure(figsize=(16,7))\n",
    "plt.suptitle('Distribusi Pesentase Pencapaian Triwulan Terakhir Terhadap Target (1 Tahun)\\n Berdasarkan job_level', fontsize=16, fontweight='bold')\n",
    "for i in range(len(JG)) :\n",
    "    plt.subplot(1,3,i+1)\n",
    "    plt.title(JG[i], fontweight='bold')\n",
    "    df_train[df_train['job_level']==JG[i]]['Last_achievement_%'].hist(bins=20,color=color[i])\n",
    "    plt.xlabel('Capaian Kinerja %')\n",
    "    plt.ylabel('Jumlah Employee')"
   ]
  },
  {
   "cell_type": "markdown",
   "metadata": {},
   "source": [
    "Employee Dengan Capaian **Kinerja 100%**"
   ]
  },
  {
   "cell_type": "code",
   "execution_count": null,
   "metadata": {},
   "outputs": [],
   "source": [
    "employee_100 = df_train[df_train['Last_achievement_%']==100.00]\n",
    "employee_100"
   ]
  },
  {
   "cell_type": "code",
   "execution_count": null,
   "metadata": {},
   "outputs": [],
   "source": []
  },
  {
   "cell_type": "markdown",
   "metadata": {},
   "source": [
    "Employee Dengan Capaian **Kinerja diatas 100 %**"
   ]
  },
  {
   "cell_type": "code",
   "execution_count": null,
   "metadata": {},
   "outputs": [],
   "source": [
    "employee_above_100 = df_train[df_train['Last_achievement_%']>100]\n",
    "employee_above_100['Last_achievement_%'].describe()"
   ]
  },
  {
   "cell_type": "code",
   "execution_count": null,
   "metadata": {},
   "outputs": [],
   "source": [
    "print(f'Jumlah Employee dengan kinerja diatas 100% berjumlah {len(employee_above_100)} orang dari total {len(df_train)} jumlah employee')\n",
    "print(f'Presentase Jumlah Employee dengan capaian Kinerja diatas 100% : {round((len(employee_above_100)/len(df_train)*100),2)}%' )"
   ]
  },
  {
   "cell_type": "code",
   "execution_count": null,
   "metadata": {},
   "outputs": [],
   "source": [
    "#Employee dengan capaian kinerja tertingi\n",
    "employee_above_100[employee_above_100['Last_achievement_%']==130.00].T"
   ]
  },
  {
   "cell_type": "code",
   "execution_count": null,
   "metadata": {},
   "outputs": [],
   "source": [
    "employee_above_100['job_level'].value_counts()"
   ]
  },
  {
   "cell_type": "code",
   "execution_count": null,
   "metadata": {},
   "outputs": [],
   "source": [
    "employee_above_100['job_duration_from_training'].value_counts().sort_values()"
   ]
  },
  {
   "cell_type": "code",
   "execution_count": null,
   "metadata": {},
   "outputs": [],
   "source": []
  },
  {
   "cell_type": "markdown",
   "metadata": {},
   "source": [
    "Employee dengan **kinerja 80 - 99 %**"
   ]
  },
  {
   "cell_type": "code",
   "execution_count": null,
   "metadata": {},
   "outputs": [],
   "source": [
    "employee_80_99 = df_train[(df_train['Last_achievement_%']>=80) & (df_train['Last_achievement_%']<100)]"
   ]
  },
  {
   "cell_type": "code",
   "execution_count": null,
   "metadata": {},
   "outputs": [],
   "source": [
    "employee_80_99['Last_achievement_%'].describe()"
   ]
  },
  {
   "cell_type": "code",
   "execution_count": null,
   "metadata": {},
   "outputs": [],
   "source": [
    "print(f'Jumlah Employee dengan kinerja 80-99% berjumlah {len(employee_80_99)} orang dari total {len(df_train)} jumlah employee')\n",
    "print(f'Presentase Jumlah Employee dengan capaian Kinerja 80-99% : {round((len(employee_80_99)/len(df_train)*100),2)}%' )"
   ]
  },
  {
   "cell_type": "code",
   "execution_count": null,
   "metadata": {},
   "outputs": [],
   "source": [
    "employee_80_99['job_level'].value_counts()"
   ]
  },
  {
   "cell_type": "code",
   "execution_count": null,
   "metadata": {},
   "outputs": [],
   "source": []
  },
  {
   "cell_type": "markdown",
   "metadata": {},
   "source": [
    "Employee dengan **kinerja 60 - 79 %**"
   ]
  },
  {
   "cell_type": "code",
   "execution_count": null,
   "metadata": {},
   "outputs": [],
   "source": [
    "employee_60_79 = df_train[(df_train['Last_achievement_%']>=60) & (df_train['Last_achievement_%']<80)]"
   ]
  },
  {
   "cell_type": "code",
   "execution_count": null,
   "metadata": {},
   "outputs": [],
   "source": [
    "employee_60_79['Last_achievement_%'].describe()"
   ]
  },
  {
   "cell_type": "code",
   "execution_count": null,
   "metadata": {},
   "outputs": [],
   "source": [
    "print(f'Jumlah Employee dengan kinerja 80-99% berjumlah {len(employee_60_79)} orang dari total {len(df_train)} jumlah employee')\n",
    "print(f'Presentase Jumlah Employee dengan capaian Kinerja 80-99% : {round((len(employee_60_79)/len(df_train)*100),2)}%' )"
   ]
  },
  {
   "cell_type": "code",
   "execution_count": null,
   "metadata": {},
   "outputs": [],
   "source": [
    "employee_60_79['job_level'].value_counts()"
   ]
  },
  {
   "cell_type": "code",
   "execution_count": null,
   "metadata": {},
   "outputs": [],
   "source": []
  },
  {
   "cell_type": "markdown",
   "metadata": {},
   "source": [
    "Employee dengan **kinerja dibawah 60%**"
   ]
  },
  {
   "cell_type": "code",
   "execution_count": null,
   "metadata": {},
   "outputs": [],
   "source": [
    "employee_below_60 = df_train[df_train['Last_achievement_%']<60]"
   ]
  },
  {
   "cell_type": "code",
   "execution_count": null,
   "metadata": {},
   "outputs": [],
   "source": [
    "employee_below_60['Last_achievement_%'].describe()"
   ]
  },
  {
   "cell_type": "code",
   "execution_count": 5,
   "metadata": {},
   "outputs": [
    {
     "ename": "NameError",
     "evalue": "name 'employee_below_60' is not defined",
     "output_type": "error",
     "traceback": [
      "\u001b[1;31m---------------------------------------------------------------------------\u001b[0m",
      "\u001b[1;31mNameError\u001b[0m                                 Traceback (most recent call last)",
      "\u001b[1;32m<ipython-input-5-f486f41eaa13>\u001b[0m in \u001b[0;36m<module>\u001b[1;34m\u001b[0m\n\u001b[0;32m      1\u001b[0m \u001b[1;31m#Employee dengan capaian kinerja terendah\u001b[0m\u001b[1;33m\u001b[0m\u001b[1;33m\u001b[0m\u001b[1;33m\u001b[0m\u001b[0m\n\u001b[1;32m----> 2\u001b[1;33m \u001b[0memployee_below_60\u001b[0m\u001b[1;33m[\u001b[0m\u001b[0memployee_below_60\u001b[0m\u001b[1;33m[\u001b[0m\u001b[1;34m'Last_achievement_%'\u001b[0m\u001b[1;33m]\u001b[0m\u001b[1;33m==\u001b[0m\u001b[1;36m4.51\u001b[0m\u001b[1;33m]\u001b[0m\u001b[1;33m.\u001b[0m\u001b[0mT\u001b[0m\u001b[1;33m\u001b[0m\u001b[1;33m\u001b[0m\u001b[0m\n\u001b[0m",
      "\u001b[1;31mNameError\u001b[0m: name 'employee_below_60' is not defined"
     ]
    }
   ],
   "source": [
    "#Employee dengan capaian kinerja terendah\n",
    "employee_below_60[employee_below_60['Last_achievement_%']==4.51].T"
   ]
  },
  {
   "cell_type": "code",
   "execution_count": null,
   "metadata": {},
   "outputs": [],
   "source": [
    "print(f'Jumlah Employee dengan kinerja di bawah 60% berjumlah {len(employee_below_60)} orang dari total {len(df_train)} jumlah employee')\n",
    "print(f'Presentase Jumlah Employee dengan capaian Kinerja di bawah 60% : {round((len(employee_below_60)/len(df_train)*100),2)}%' )"
   ]
  },
  {
   "cell_type": "code",
   "execution_count": null,
   "metadata": {},
   "outputs": [],
   "source": [
    "employee_below_60['job_level'].value_counts()"
   ]
  },
  {
   "cell_type": "code",
   "execution_count": null,
   "metadata": {},
   "outputs": [],
   "source": [
    "print(len(employee_below_60))\n",
    "print(len(employee_60_79))\n",
    "print(len(employee_80_99))\n",
    "print(len(employee_100))\n",
    "print(len(employee_above_100))\n",
    "print()\n",
    "print(f'Total : {len(employee_below_60)+len(employee_60_79)+len(employee_80_99)+len(employee_100)+len(employee_above_100)}')\n",
    "print(f'Data : {len(df_train)}')"
   ]
  },
  {
   "cell_type": "code",
   "execution_count": null,
   "metadata": {},
   "outputs": [],
   "source": [
    "plt.figure(figsize=(9,6))\n",
    "plt.title('Presentase Capaian Kinerja Employe', fontsize=13, fontweight='bold')\n",
    "size=[len(employee_below_60),len(employee_60_79), \n",
    "     len(employee_80_99), len(employee_100), len(employee_above_100)]\n",
    "\n",
    "label=['below_60%', '60-79%', '80-99%', '100%', 'above_100%']\n",
    "\n",
    "plt.pie(size, autopct='%.2f%%')\n",
    "plt.legend(label, loc='lower center', ncol=3)\n",
    "plt.show()"
   ]
  },
  {
   "cell_type": "markdown",
   "metadata": {},
   "source": [
    "### `Achievement_above_100%_during3quartal`\n",
    "\n",
    "Jumlah pencapaian diatas 100% dalam 3 tahun terkahir"
   ]
  },
  {
   "cell_type": "markdown",
   "metadata": {},
   "source": [
    "Penamaan Kolom di atas tidak konsisten dengan deskripsinya. Mungkin yang dimaksud ada sesuai dengan deskripsinya"
   ]
  },
  {
   "cell_type": "code",
   "execution_count": null,
   "metadata": {},
   "outputs": [],
   "source": [
    "df_train['Achievement_above_100%_during3quartal'].value_counts()"
   ]
  },
  {
   "cell_type": "markdown",
   "metadata": {},
   "source": [
    "- 0 : Tidak pernah mencapain kinerja di atas 100% sama sekali dalam kurun waktu 3 tahun terakhir\n",
    "- 1 : Mencapai kinerja di atas 100% sebanyak **satu kali** dalam kurun waktu 3 tahun terakhir\n",
    "- 2 : Mencapai kinerja di atas 100% sebanyak **dua kali** dalam kurun waktu 3 tahun terakhir\n",
    "- 3 : Mencapai kinerja di atas 100% sebanyak **3 kali** dalam kurun waktu 3 tahun terakhir "
   ]
  },
  {
   "cell_type": "code",
   "execution_count": null,
   "metadata": {},
   "outputs": [],
   "source": [
    "# Check apakah 0 benar tidak pernah mencapai kinerja di atas 100 %\n",
    "df_train[df_train['Achievement_above_100%_during3quartal']==0]['Last_achievement_%'].max()"
   ]
  },
  {
   "cell_type": "code",
   "execution_count": null,
   "metadata": {},
   "outputs": [],
   "source": [
    "# Check apakah 1 benar pernah mencapai kinerja di atas 100 % setidaknya 1 kali\n",
    "df_train[df_train['Achievement_above_100%_during3quartal']==1]['Last_achievement_%']"
   ]
  },
  {
   "cell_type": "code",
   "execution_count": null,
   "metadata": {},
   "outputs": [],
   "source": [
    "# Check apakah 2 benar pernah mencapai kinerja di atas 100 % setidaknya 2 kali\n",
    "df_train[df_train['Achievement_above_100%_during3quartal']==2]['Last_achievement_%']"
   ]
  },
  {
   "cell_type": "code",
   "execution_count": null,
   "metadata": {},
   "outputs": [],
   "source": [
    "# Check apakah 3 benar pernah mencapai kinerja di atas 100 % selama 3 tahun berturut-turut\n",
    "df_train[df_train['Achievement_above_100%_during3quartal']==3]['Last_achievement_%']"
   ]
  },
  {
   "cell_type": "code",
   "execution_count": null,
   "metadata": {},
   "outputs": [],
   "source": [
    "plt.figure(figsize=(16,6))\n",
    "plt.subplot(121)\n",
    "plt.title('Jumlah employee dengan kinerja di atas 100% dalam 3 tahun terakhir', fontsize=14, fontweight='bold')\n",
    "sns.countplot(df_train['Achievement_above_100%_during3quartal'])\n",
    "plt.subplot(122)\n",
    "plt.title('Jumlah employee dengan kinerja di atas 100% dalam 3 tahun terakhir', fontsize=14, fontweight='bold')\n",
    "plt.pie(df_train['Achievement_above_100%_during3quartal'].value_counts().sort_index(), \n",
    "       autopct='%.1f%%', labels=df_train['Achievement_above_100%_during3quartal'].value_counts().sort_index().index, \n",
    "       textprops={'fontsize':13,'fontweight':'bold'}, startangle=30)\n",
    "\n",
    "plt.legend(loc='lower center', ncol=3)\n",
    "plt.show()"
   ]
  },
  {
   "cell_type": "markdown",
   "metadata": {},
   "source": [
    "Check siapa employee yang mencapai target kinerja di atas 100 % 3 tahun terakhir & mencapai target di atas 100% pada tahun ini"
   ]
  },
  {
   "cell_type": "code",
   "execution_count": null,
   "metadata": {},
   "outputs": [],
   "source": [
    "df_train[(df_train['Achievement_above_100%_during3quartal']==3) & (df_train['Last_achievement_%']>100.00)]"
   ]
  },
  {
   "cell_type": "code",
   "execution_count": null,
   "metadata": {},
   "outputs": [],
   "source": [
    "df_train[(df_train['Achievement_above_100%_during3quartal']==3) & (df_train['Last_achievement_%']>100.00)]['Last_achievement_%'].describe()"
   ]
  },
  {
   "cell_type": "code",
   "execution_count": null,
   "metadata": {},
   "outputs": [],
   "source": [
    "df_train[(df_train['Achievement_above_100%_during3quartal']==3) & (df_train['Last_achievement_%']>100.00)]['Achievement_above_100%_during3quartal'].value_counts()"
   ]
  },
  {
   "cell_type": "markdown",
   "metadata": {},
   "source": [
    "**Ada 1041 employee yang mencapai target kinerja di atas 100 % 3 tahun terakhir & mencapai target di atas 100% pada triwulan akhir**"
   ]
  },
  {
   "cell_type": "markdown",
   "metadata": {},
   "source": [
    "### `Best Performance`\n",
    "\n",
    "Termasuk dalam best performance (1/0)"
   ]
  },
  {
   "cell_type": "code",
   "execution_count": null,
   "metadata": {},
   "outputs": [],
   "source": [
    "plt.figure(figsize=(16,6))\n",
    "plt.subplot(121)\n",
    "plt.title('Jumlah employee dengan Kategori \"Best Performance\"', fontsize=14, fontweight='bold')\n",
    "sns.countplot(df_train['Best Performance'])\n",
    "plt.subplot(122)\n",
    "plt.title('Proporsi Jumlah employee dengan Kategori \"Best Performance\"', fontsize=14, fontweight='bold')\n",
    "plt.pie(df_train['Best Performance'].value_counts(), \n",
    "       autopct='%.1f%%', labels=df_train['Best Performance'].value_counts().index, \n",
    "       textprops={'fontsize':13,'fontweight':'bold'}, startangle=30)\n",
    "\n",
    "plt.legend(loc='lower center', ncol=3)\n",
    "plt.show()"
   ]
  },
  {
   "cell_type": "markdown",
   "metadata": {},
   "source": []
  },
  {
   "cell_type": "code",
   "execution_count": null,
   "metadata": {},
   "outputs": [],
   "source": [
    "best_employee = df_train[(df_train['Achievement_above_100%_during3quartal']==3) & (df_train['Last_achievement_%']>100.00)]\n",
    "best_employee"
   ]
  },
  {
   "cell_type": "code",
   "execution_count": null,
   "metadata": {},
   "outputs": [],
   "source": [
    "best_employee['Best Performance'].value_counts()"
   ]
  },
  {
   "cell_type": "code",
   "execution_count": null,
   "metadata": {},
   "outputs": [],
   "source": [
    "plt.figure(figsize=(16,6))\n",
    "plt.subplot(121)\n",
    "plt.title('Jumlah employee dengan kinerja selalu di atas 100%\\n dengan Kategori \"Best Performance\"', fontsize=14, fontweight='bold')\n",
    "sns.countplot(best_employee['Best Performance'])\n",
    "plt.subplot(122)\n",
    "plt.title('Proporsi Jumlah employee dengan kinerja selalu di atas 100%\\n dengan Kategori \"Best Performance\"', \n",
    "          fontsize=14, fontweight='bold')\n",
    "plt.pie(best_employee['Best Performance'].value_counts(), \n",
    "       autopct='%.1f%%', labels=best_employee['Best Performance'].value_counts().index, \n",
    "       textprops={'fontsize':13,'fontweight':'bold', 'color':'white'}, startangle=30)\n",
    "\n",
    "plt.legend(loc='lower center', ncol=3)\n",
    "plt.show()"
   ]
  },
  {
   "cell_type": "code",
   "execution_count": null,
   "metadata": {},
   "outputs": [],
   "source": []
  },
  {
   "cell_type": "code",
   "execution_count": null,
   "metadata": {},
   "outputs": [],
   "source": []
  },
  {
   "cell_type": "code",
   "execution_count": 6,
   "metadata": {},
   "outputs": [
    {
     "ename": "NameError",
     "evalue": "name 'df_train' is not defined",
     "output_type": "error",
     "traceback": [
      "\u001b[1;31m---------------------------------------------------------------------------\u001b[0m",
      "\u001b[1;31mNameError\u001b[0m                                 Traceback (most recent call last)",
      "\u001b[1;32m<ipython-input-6-59c0ba51e5f1>\u001b[0m in \u001b[0;36m<module>\u001b[1;34m\u001b[0m\n\u001b[1;32m----> 1\u001b[1;33m \u001b[0mdf_train\u001b[0m\u001b[1;33m[\u001b[0m\u001b[0mdf_train\u001b[0m\u001b[1;33m[\u001b[0m\u001b[1;34m'Best Performance'\u001b[0m\u001b[1;33m]\u001b[0m\u001b[1;33m==\u001b[0m\u001b[1;36m1\u001b[0m\u001b[1;33m]\u001b[0m\u001b[1;33m\u001b[0m\u001b[1;33m\u001b[0m\u001b[0m\n\u001b[0m",
      "\u001b[1;31mNameError\u001b[0m: name 'df_train' is not defined"
     ]
    }
   ],
   "source": [
    "df_train[df_train['Best Performance']==1]"
   ]
  },
  {
   "cell_type": "code",
   "execution_count": null,
   "metadata": {},
   "outputs": [],
   "source": [
    "df_train[['Last_achievement_%', 'Achievement_above_100%_during3quartal']].corrwith(df_train['Best Performance'])"
   ]
  },
  {
   "cell_type": "code",
   "execution_count": null,
   "metadata": {},
   "outputs": [],
   "source": [
    "df_train[df_train['GPA']==0]['Best Performance'].value_counts()"
   ]
  },
  {
   "cell_type": "code",
   "execution_count": null,
   "metadata": {},
   "outputs": [],
   "source": [
    "df_train[df_train['GPA']>4.00]['Best Performance'].value_counts()"
   ]
  },
  {
   "cell_type": "markdown",
   "metadata": {},
   "source": [
    "# Dummy Variables"
   ]
  },
  {
   "cell_type": "code",
   "execution_count": 123,
   "metadata": {},
   "outputs": [],
   "source": [
    "# jg = pd.get_dummies(df_train['job_level'], drop_first=True)\n",
    "# jg.head()"
   ]
  },
  {
   "cell_type": "code",
   "execution_count": 124,
   "metadata": {},
   "outputs": [],
   "source": [
    "# pg = pd.get_dummies(df_train['person_level'], drop_first=True)\n",
    "# pg.head()"
   ]
  },
  {
   "cell_type": "code",
   "execution_count": 125,
   "metadata": {},
   "outputs": [],
   "source": [
    "# emp_type = pd.get_dummies(df_train['Employee_type'], drop_first=True)\n",
    "# emp_type.head()"
   ]
  },
  {
   "cell_type": "code",
   "execution_count": 126,
   "metadata": {},
   "outputs": [],
   "source": [
    "# gender = pd.get_dummies(df_train['gender'],drop_first=True)"
   ]
  },
  {
   "cell_type": "code",
   "execution_count": 127,
   "metadata": {},
   "outputs": [],
   "source": [
    "# gender"
   ]
  },
  {
   "cell_type": "code",
   "execution_count": 128,
   "metadata": {},
   "outputs": [],
   "source": [
    "# marital = pd.get_dummies(df_train['marital_status_maried(Y/N)'],drop_first=True)\n",
    "# marital"
   ]
  },
  {
   "cell_type": "code",
   "execution_count": 129,
   "metadata": {},
   "outputs": [],
   "source": [
    "# edu = pd.get_dummies(df_train['Education_level'], drop_first=True)\n",
    "# edu"
   ]
  },
  {
   "cell_type": "code",
   "execution_count": 130,
   "metadata": {},
   "outputs": [],
   "source": [
    "# dum = pd.concat([jg,pg,emp_type,gender,marital,edu], axis=1)\n",
    "# dum"
   ]
  },
  {
   "cell_type": "code",
   "execution_count": null,
   "metadata": {},
   "outputs": [],
   "source": []
  },
  {
   "cell_type": "markdown",
   "metadata": {},
   "source": [
    "# Statsmodels"
   ]
  },
  {
   "cell_type": "code",
   "execution_count": 131,
   "metadata": {},
   "outputs": [],
   "source": [
    "# X = df_train.drop(['job_level', 'person_level', 'Employee_type',\n",
    "#                    'gender','marital_status_maried(Y/N)', \n",
    "#                    'Education_level','Best Performance'], axis=1)"
   ]
  },
  {
   "cell_type": "code",
   "execution_count": 132,
   "metadata": {},
   "outputs": [],
   "source": [
    "# X = pd.concat([dum,X],axis=1)"
   ]
  },
  {
   "cell_type": "code",
   "execution_count": 133,
   "metadata": {},
   "outputs": [],
   "source": [
    "# y = df_train[['Best Performance']]"
   ]
  },
  {
   "cell_type": "code",
   "execution_count": 134,
   "metadata": {},
   "outputs": [],
   "source": [
    "# X"
   ]
  },
  {
   "cell_type": "code",
   "execution_count": 135,
   "metadata": {},
   "outputs": [],
   "source": [
    "# y['Best Performance'].value_counts()"
   ]
  },
  {
   "cell_type": "code",
   "execution_count": 136,
   "metadata": {},
   "outputs": [],
   "source": [
    "# from imblearn.over_sampling import SMOTE"
   ]
  },
  {
   "cell_type": "code",
   "execution_count": 137,
   "metadata": {},
   "outputs": [],
   "source": [
    "# smote = SMOTE(random_state=42, sampling_strategy=1.0, k_neighbors=5)\n",
    "# Xsmot, ysmot = smote.fit_sample(X,y)"
   ]
  },
  {
   "cell_type": "code",
   "execution_count": 138,
   "metadata": {},
   "outputs": [],
   "source": [
    "# Xsmot.shape"
   ]
  },
  {
   "cell_type": "code",
   "execution_count": 139,
   "metadata": {},
   "outputs": [],
   "source": [
    "# ysmot['Best Performance'].value_counts()"
   ]
  },
  {
   "cell_type": "code",
   "execution_count": 140,
   "metadata": {},
   "outputs": [],
   "source": [
    "# len(X.columns)"
   ]
  },
  {
   "cell_type": "code",
   "execution_count": 141,
   "metadata": {},
   "outputs": [],
   "source": [
    "# X.dtypes"
   ]
  },
  {
   "cell_type": "code",
   "execution_count": null,
   "metadata": {},
   "outputs": [],
   "source": []
  },
  {
   "cell_type": "code",
   "execution_count": 142,
   "metadata": {},
   "outputs": [],
   "source": [
    "# import statsmodels.api as sm\n",
    "# sm_log = sm.Logit(y, sm.add_constant(X))"
   ]
  },
  {
   "cell_type": "code",
   "execution_count": 143,
   "metadata": {},
   "outputs": [],
   "source": [
    "# result = sm_log.fit()"
   ]
  },
  {
   "cell_type": "code",
   "execution_count": 144,
   "metadata": {},
   "outputs": [],
   "source": [
    "# print(result.summary())"
   ]
  },
  {
   "cell_type": "code",
   "execution_count": 145,
   "metadata": {},
   "outputs": [],
   "source": [
    "# sm_log_2 = sm.Logit(ysmot, sm.add_constant(Xsmot))\n",
    "# result_2 = sm_log_2.fit()"
   ]
  },
  {
   "cell_type": "code",
   "execution_count": 146,
   "metadata": {},
   "outputs": [],
   "source": [
    "# print(result_2.summary())"
   ]
  },
  {
   "cell_type": "markdown",
   "metadata": {},
   "source": [
    "## GPA Manipulation"
   ]
  },
  {
   "cell_type": "code",
   "execution_count": 147,
   "metadata": {},
   "outputs": [],
   "source": [
    "# normal_gpa"
   ]
  },
  {
   "cell_type": "code",
   "execution_count": 148,
   "metadata": {},
   "outputs": [
    {
     "data": {
      "text/html": [
       "<div>\n",
       "<style scoped>\n",
       "    .dataframe tbody tr th:only-of-type {\n",
       "        vertical-align: middle;\n",
       "    }\n",
       "\n",
       "    .dataframe tbody tr th {\n",
       "        vertical-align: top;\n",
       "    }\n",
       "\n",
       "    .dataframe thead th {\n",
       "        text-align: right;\n",
       "    }\n",
       "</style>\n",
       "<table border=\"1\" class=\"dataframe\">\n",
       "  <thead>\n",
       "    <tr style=\"text-align: right;\">\n",
       "      <th></th>\n",
       "      <th>job_level</th>\n",
       "      <th>job_duration_in_current_job_level</th>\n",
       "      <th>person_level</th>\n",
       "      <th>job_duration_in_current_person_level</th>\n",
       "      <th>job_duration_in_current_branch</th>\n",
       "      <th>Employee_type</th>\n",
       "      <th>gender</th>\n",
       "      <th>age</th>\n",
       "      <th>marital_status_maried(Y/N)</th>\n",
       "      <th>number_of_dependences</th>\n",
       "      <th>...</th>\n",
       "      <th>year_graduated</th>\n",
       "      <th>job_duration_from_training</th>\n",
       "      <th>branch_rotation</th>\n",
       "      <th>job_rotation</th>\n",
       "      <th>assign_of_otherposition</th>\n",
       "      <th>annual leave</th>\n",
       "      <th>sick_leaves</th>\n",
       "      <th>Last_achievement_%</th>\n",
       "      <th>Achievement_above_100%_during3quartal</th>\n",
       "      <th>Best Performance</th>\n",
       "    </tr>\n",
       "  </thead>\n",
       "  <tbody>\n",
       "    <tr>\n",
       "      <th>1</th>\n",
       "      <td>JG04</td>\n",
       "      <td>1.292285</td>\n",
       "      <td>PG03</td>\n",
       "      <td>1.292285</td>\n",
       "      <td>1.039230</td>\n",
       "      <td>RM_type_A</td>\n",
       "      <td>2</td>\n",
       "      <td>1989</td>\n",
       "      <td>Y</td>\n",
       "      <td>0</td>\n",
       "      <td>...</td>\n",
       "      <td>2007</td>\n",
       "      <td>4</td>\n",
       "      <td>4</td>\n",
       "      <td>3</td>\n",
       "      <td>0</td>\n",
       "      <td>0</td>\n",
       "      <td>1</td>\n",
       "      <td>47.68</td>\n",
       "      <td>0.0</td>\n",
       "      <td>0</td>\n",
       "    </tr>\n",
       "    <tr>\n",
       "      <th>2</th>\n",
       "      <td>JG05</td>\n",
       "      <td>2.565151</td>\n",
       "      <td>PG06</td>\n",
       "      <td>2.308679</td>\n",
       "      <td>1.780449</td>\n",
       "      <td>RM_type_C</td>\n",
       "      <td>1</td>\n",
       "      <td>1970</td>\n",
       "      <td>Y</td>\n",
       "      <td>1</td>\n",
       "      <td>...</td>\n",
       "      <td>1989</td>\n",
       "      <td>28</td>\n",
       "      <td>10</td>\n",
       "      <td>9</td>\n",
       "      <td>6</td>\n",
       "      <td>2</td>\n",
       "      <td>1</td>\n",
       "      <td>40.73</td>\n",
       "      <td>0.0</td>\n",
       "      <td>0</td>\n",
       "    </tr>\n",
       "    <tr>\n",
       "      <th>3</th>\n",
       "      <td>JG05</td>\n",
       "      <td>2.828427</td>\n",
       "      <td>PG06</td>\n",
       "      <td>1.000000</td>\n",
       "      <td>1.385641</td>\n",
       "      <td>RM_type_A</td>\n",
       "      <td>2</td>\n",
       "      <td>1967</td>\n",
       "      <td>Y</td>\n",
       "      <td>2</td>\n",
       "      <td>...</td>\n",
       "      <td>1987</td>\n",
       "      <td>29</td>\n",
       "      <td>11</td>\n",
       "      <td>6</td>\n",
       "      <td>0</td>\n",
       "      <td>4</td>\n",
       "      <td>10</td>\n",
       "      <td>47.42</td>\n",
       "      <td>0.0</td>\n",
       "      <td>1</td>\n",
       "    </tr>\n",
       "    <tr>\n",
       "      <th>4</th>\n",
       "      <td>JG05</td>\n",
       "      <td>2.828427</td>\n",
       "      <td>PG06</td>\n",
       "      <td>2.828427</td>\n",
       "      <td>0.707107</td>\n",
       "      <td>RM_type_A</td>\n",
       "      <td>2</td>\n",
       "      <td>1965</td>\n",
       "      <td>Y</td>\n",
       "      <td>3</td>\n",
       "      <td>...</td>\n",
       "      <td>1985</td>\n",
       "      <td>30</td>\n",
       "      <td>9</td>\n",
       "      <td>8</td>\n",
       "      <td>2</td>\n",
       "      <td>3</td>\n",
       "      <td>0</td>\n",
       "      <td>47.18</td>\n",
       "      <td>0.0</td>\n",
       "      <td>0</td>\n",
       "    </tr>\n",
       "    <tr>\n",
       "      <th>5</th>\n",
       "      <td>JG05</td>\n",
       "      <td>2.828427</td>\n",
       "      <td>PG06</td>\n",
       "      <td>2.121320</td>\n",
       "      <td>1.118034</td>\n",
       "      <td>RM_type_A</td>\n",
       "      <td>1</td>\n",
       "      <td>1971</td>\n",
       "      <td>Y</td>\n",
       "      <td>3</td>\n",
       "      <td>...</td>\n",
       "      <td>1990</td>\n",
       "      <td>28</td>\n",
       "      <td>7</td>\n",
       "      <td>9</td>\n",
       "      <td>4</td>\n",
       "      <td>0</td>\n",
       "      <td>0</td>\n",
       "      <td>48.46</td>\n",
       "      <td>0.0</td>\n",
       "      <td>0</td>\n",
       "    </tr>\n",
       "  </tbody>\n",
       "</table>\n",
       "<p>5 rows × 22 columns</p>\n",
       "</div>"
      ],
      "text/plain": [
       "  job_level  job_duration_in_current_job_level person_level  \\\n",
       "1      JG04                           1.292285         PG03   \n",
       "2      JG05                           2.565151         PG06   \n",
       "3      JG05                           2.828427         PG06   \n",
       "4      JG05                           2.828427         PG06   \n",
       "5      JG05                           2.828427         PG06   \n",
       "\n",
       "   job_duration_in_current_person_level  job_duration_in_current_branch  \\\n",
       "1                              1.292285                        1.039230   \n",
       "2                              2.308679                        1.780449   \n",
       "3                              1.000000                        1.385641   \n",
       "4                              2.828427                        0.707107   \n",
       "5                              2.121320                        1.118034   \n",
       "\n",
       "  Employee_type  gender   age marital_status_maried(Y/N)  \\\n",
       "1     RM_type_A       2  1989                          Y   \n",
       "2     RM_type_C       1  1970                          Y   \n",
       "3     RM_type_A       2  1967                          Y   \n",
       "4     RM_type_A       2  1965                          Y   \n",
       "5     RM_type_A       1  1971                          Y   \n",
       "\n",
       "   number_of_dependences  ... year_graduated  job_duration_from_training  \\\n",
       "1                      0  ...           2007                           4   \n",
       "2                      1  ...           1989                          28   \n",
       "3                      2  ...           1987                          29   \n",
       "4                      3  ...           1985                          30   \n",
       "5                      3  ...           1990                          28   \n",
       "\n",
       "   branch_rotation  job_rotation  assign_of_otherposition  annual leave  \\\n",
       "1                4             3                        0             0   \n",
       "2               10             9                        6             2   \n",
       "3               11             6                        0             4   \n",
       "4                9             8                        2             3   \n",
       "5                7             9                        4             0   \n",
       "\n",
       "   sick_leaves  Last_achievement_%  Achievement_above_100%_during3quartal  \\\n",
       "1            1               47.68                                    0.0   \n",
       "2            1               40.73                                    0.0   \n",
       "3           10               47.42                                    0.0   \n",
       "4            0               47.18                                    0.0   \n",
       "5            0               48.46                                    0.0   \n",
       "\n",
       "   Best Performance  \n",
       "1                 0  \n",
       "2                 0  \n",
       "3                 1  \n",
       "4                 0  \n",
       "5                 0  \n",
       "\n",
       "[5 rows x 22 columns]"
      ]
     },
     "execution_count": 148,
     "metadata": {},
     "output_type": "execute_result"
    }
   ],
   "source": [
    "wrong_gpa=df_train[(df_train['GPA']>4.00) | (df_train['GPA']<1.00)]\n",
    "wrong_gpa.head()"
   ]
  },
  {
   "cell_type": "code",
   "execution_count": 149,
   "metadata": {},
   "outputs": [
    {
     "data": {
      "text/plain": [
       "count    29.000000\n",
       "mean      3.095172\n",
       "std       0.232389\n",
       "min       2.800000\n",
       "25%       2.870000\n",
       "50%       3.080000\n",
       "75%       3.200000\n",
       "max       3.630000\n",
       "Name: GPA, dtype: float64"
      ]
     },
     "execution_count": 149,
     "metadata": {},
     "output_type": "execute_result"
    }
   ],
   "source": [
    "jg03_normal_gpa.describe()"
   ]
  },
  {
   "cell_type": "code",
   "execution_count": 150,
   "metadata": {},
   "outputs": [
    {
     "data": {
      "text/plain": [
       "count    8413.000000\n",
       "mean        3.164201\n",
       "std         0.239812\n",
       "min         2.000000\n",
       "25%         3.000000\n",
       "50%         3.140000\n",
       "75%         3.310000\n",
       "max         3.970000\n",
       "Name: GPA, dtype: float64"
      ]
     },
     "execution_count": 150,
     "metadata": {},
     "output_type": "execute_result"
    }
   ],
   "source": [
    "jg04_normal_gpa.describe()"
   ]
  },
  {
   "cell_type": "code",
   "execution_count": 151,
   "metadata": {},
   "outputs": [
    {
     "data": {
      "text/plain": [
       "count    509.000000\n",
       "mean       3.110747\n",
       "std        0.277930\n",
       "min        2.050000\n",
       "25%        2.960000\n",
       "50%        3.110000\n",
       "75%        3.280000\n",
       "max        3.860000\n",
       "Name: GPA, dtype: float64"
      ]
     },
     "execution_count": 151,
     "metadata": {},
     "output_type": "execute_result"
    }
   ],
   "source": [
    "jg05_normal_gpa.describe()"
   ]
  },
  {
   "cell_type": "code",
   "execution_count": 152,
   "metadata": {},
   "outputs": [],
   "source": [
    "# Make data Copy\n",
    "df_train_copy = df_train.copy()"
   ]
  },
  {
   "cell_type": "code",
   "execution_count": 153,
   "metadata": {},
   "outputs": [
    {
     "data": {
      "text/plain": [
       "job_level                                0\n",
       "job_duration_in_current_job_level        0\n",
       "person_level                             0\n",
       "job_duration_in_current_person_level     0\n",
       "job_duration_in_current_branch           0\n",
       "Employee_type                            0\n",
       "gender                                   0\n",
       "age                                      0\n",
       "marital_status_maried(Y/N)               0\n",
       "number_of_dependences                    0\n",
       "Education_level                          0\n",
       "GPA                                      0\n",
       "year_graduated                           0\n",
       "job_duration_from_training               0\n",
       "branch_rotation                          0\n",
       "job_rotation                             0\n",
       "assign_of_otherposition                  0\n",
       "annual leave                             0\n",
       "sick_leaves                              0\n",
       "Last_achievement_%                       0\n",
       "Achievement_above_100%_during3quartal    0\n",
       "Best Performance                         0\n",
       "dtype: int64"
      ]
     },
     "execution_count": 153,
     "metadata": {},
     "output_type": "execute_result"
    }
   ],
   "source": [
    "df_train_copy.isnull().sum()"
   ]
  },
  {
   "cell_type": "code",
   "execution_count": 154,
   "metadata": {},
   "outputs": [
    {
     "data": {
      "text/plain": [
       "2167    0.0\n",
       "2572    0.0\n",
       "2624    0.0\n",
       "4258    0.0\n",
       "5365    0.0\n",
       "7426    0.0\n",
       "7898    0.0\n",
       "Name: GPA, dtype: float64"
      ]
     },
     "execution_count": 154,
     "metadata": {},
     "output_type": "execute_result"
    }
   ],
   "source": [
    "wrong_gpa[wrong_gpa['job_level']=='JG03']['GPA']"
   ]
  },
  {
   "cell_type": "code",
   "execution_count": 155,
   "metadata": {},
   "outputs": [],
   "source": [
    "def fixing_gpa(x):\n",
    "    jg = x[0]\n",
    "    gpa = x[1]\n",
    "    \n",
    "    if gpa > 4.00 or gpa < 0.50:\n",
    "        if jg == 'JG03':\n",
    "            return 3.08\n",
    "        elif jg == 'JG04':\n",
    "            return 3.14\n",
    "        elif jg == 'JG05':\n",
    "            return 3.11\n",
    "    else:\n",
    "        return gpa"
   ]
  },
  {
   "cell_type": "code",
   "execution_count": 156,
   "metadata": {},
   "outputs": [],
   "source": [
    "df_train_copy['GPA'] = df_train_copy[['job_level','GPA']].apply(fixing_gpa,axis=1)"
   ]
  },
  {
   "cell_type": "code",
   "execution_count": 157,
   "metadata": {},
   "outputs": [
    {
     "data": {
      "text/plain": [
       "386      3.26\n",
       "401      2.99\n",
       "820      3.00\n",
       "845      2.80\n",
       "1184     2.80\n",
       "1270     2.85\n",
       "1337     2.87\n",
       "1589     3.34\n",
       "1754     3.15\n",
       "1879     2.81\n",
       "1890     3.13\n",
       "1978     2.95\n",
       "2167     3.08\n",
       "2503     3.20\n",
       "2572     3.08\n",
       "2624     3.08\n",
       "2948     3.18\n",
       "2999     3.34\n",
       "3016     3.07\n",
       "3557     2.80\n",
       "3569     3.63\n",
       "4258     3.08\n",
       "5137     3.00\n",
       "5290     3.53\n",
       "5365     3.08\n",
       "5392     2.87\n",
       "6961     3.11\n",
       "7426     3.08\n",
       "7898     3.08\n",
       "7953     3.09\n",
       "8688     3.50\n",
       "8711     3.08\n",
       "8777     3.07\n",
       "9061     3.33\n",
       "10072    2.81\n",
       "11074    3.20\n",
       "Name: GPA, dtype: float64"
      ]
     },
     "execution_count": 157,
     "metadata": {},
     "output_type": "execute_result"
    }
   ],
   "source": [
    "df_train_copy[df_train_copy['job_level']=='JG03']['GPA']"
   ]
  },
  {
   "cell_type": "code",
   "execution_count": 158,
   "metadata": {},
   "outputs": [],
   "source": [
    "# Create Dummy Variable"
   ]
  },
  {
   "cell_type": "code",
   "execution_count": 159,
   "metadata": {},
   "outputs": [],
   "source": [
    "# jg = pd.get_dummies(df_train_copy['job_level'],drop_first=True)\n",
    "# pg = pd.get_dummies(df_train_copy['person_level'],drop_first=True)\n",
    "# emp_type = pd.get_dummies(df_train_copy['Employee_type'],drop_first=True)\n",
    "# gender = pd.get_dummies(df_train_copy['gender'],drop_first=True)\n",
    "# marital = pd.get_dummies(df_train_copy['marital_status_maried(Y/N)'],drop_first=True)\n",
    "# edu = pd.get_dummies(df_train_copy['Education_level'],drop_first=True)"
   ]
  },
  {
   "cell_type": "code",
   "execution_count": 160,
   "metadata": {},
   "outputs": [],
   "source": [
    "# dummy = pd.concat([jg,pg,emp_type,gender,marital,edu], axis=1)\n",
    "# dummy"
   ]
  },
  {
   "cell_type": "code",
   "execution_count": 161,
   "metadata": {},
   "outputs": [],
   "source": [
    "# df_train_copy.drop(['job_level', 'person_level', 'Employee_type',\n",
    "#                    'gender','marital_status_maried(Y/N)', \n",
    "#                    'Education_level'], axis=1, inplace=True)"
   ]
  },
  {
   "cell_type": "code",
   "execution_count": 162,
   "metadata": {},
   "outputs": [],
   "source": [
    "# df_train_copy.shape"
   ]
  },
  {
   "cell_type": "code",
   "execution_count": 163,
   "metadata": {},
   "outputs": [],
   "source": [
    "# data = pd.concat([dummy,df_train_copy], axis=1)\n",
    "# data"
   ]
  },
  {
   "cell_type": "code",
   "execution_count": 164,
   "metadata": {},
   "outputs": [],
   "source": [
    "# data.corr()['Best Performance']"
   ]
  },
  {
   "cell_type": "code",
   "execution_count": 165,
   "metadata": {},
   "outputs": [],
   "source": [
    "# X = data.drop('Best Performance',axis=1)\n",
    "# y = data['Best Performance']"
   ]
  },
  {
   "cell_type": "code",
   "execution_count": 166,
   "metadata": {},
   "outputs": [],
   "source": [
    "# y.value_counts()"
   ]
  },
  {
   "cell_type": "code",
   "execution_count": 167,
   "metadata": {},
   "outputs": [],
   "source": [
    "# X.head()"
   ]
  },
  {
   "cell_type": "code",
   "execution_count": 168,
   "metadata": {},
   "outputs": [],
   "source": [
    "# X.shape"
   ]
  },
  {
   "cell_type": "code",
   "execution_count": 169,
   "metadata": {},
   "outputs": [],
   "source": [
    "# #Statsmodels\n",
    "# import statsmodels.api as sm"
   ]
  },
  {
   "cell_type": "code",
   "execution_count": 170,
   "metadata": {},
   "outputs": [],
   "source": [
    "# sm_log = sm.Logit(y, sm.add_constant(X))\n",
    "# result = sm_log.fit()\n",
    "# print(result.summary())"
   ]
  },
  {
   "cell_type": "code",
   "execution_count": 171,
   "metadata": {},
   "outputs": [],
   "source": [
    "# X_gpa = X[['job_duration_in_current_branch']]"
   ]
  },
  {
   "cell_type": "code",
   "execution_count": 172,
   "metadata": {},
   "outputs": [],
   "source": [
    "# smx = sm.Logit(y, sm.add_constant(X_gpa))\n",
    "# res = smx.fit()\n",
    "# print(res.summary())"
   ]
  },
  {
   "cell_type": "code",
   "execution_count": null,
   "metadata": {},
   "outputs": [],
   "source": []
  },
  {
   "cell_type": "code",
   "execution_count": null,
   "metadata": {},
   "outputs": [],
   "source": []
  },
  {
   "cell_type": "code",
   "execution_count": 173,
   "metadata": {},
   "outputs": [],
   "source": [
    "# #Statsmodels with oversampling\n",
    "# from imblearn.over_sampling import SMOTE\n",
    "# smot = SMOTE(random_state=42)"
   ]
  },
  {
   "cell_type": "code",
   "execution_count": 174,
   "metadata": {},
   "outputs": [],
   "source": [
    "# Xsmot, ysmot = smot.fit_resample(X,y)"
   ]
  },
  {
   "cell_type": "code",
   "execution_count": 175,
   "metadata": {},
   "outputs": [],
   "source": [
    "# sm_log_smot = sm.Logit(ysmot, sm.add_constant(Xsmot))\n",
    "# result2 = sm_log_smot.fit()\n",
    "# print(result2.summary())"
   ]
  },
  {
   "cell_type": "markdown",
   "metadata": {},
   "source": [
    "# Train Test Split"
   ]
  },
  {
   "cell_type": "code",
   "execution_count": 176,
   "metadata": {},
   "outputs": [],
   "source": [
    "# from sklearn.model_selection import train_test_split, cross_val_score"
   ]
  },
  {
   "cell_type": "code",
   "execution_count": 177,
   "metadata": {},
   "outputs": [],
   "source": [
    "# Xsmot"
   ]
  },
  {
   "cell_type": "code",
   "execution_count": 178,
   "metadata": {},
   "outputs": [],
   "source": [
    "# ysmot"
   ]
  },
  {
   "cell_type": "code",
   "execution_count": 179,
   "metadata": {},
   "outputs": [],
   "source": [
    "# X_train, X_test, y_train, y_test = train_test_split(Xsmot,ysmot, test_size=0.3, random_state=42)"
   ]
  },
  {
   "cell_type": "code",
   "execution_count": null,
   "metadata": {},
   "outputs": [],
   "source": []
  },
  {
   "cell_type": "markdown",
   "metadata": {},
   "source": [
    "## Modelling"
   ]
  },
  {
   "cell_type": "code",
   "execution_count": 180,
   "metadata": {},
   "outputs": [],
   "source": [
    "# from sklearn.linear_model import LogisticRegression"
   ]
  },
  {
   "cell_type": "code",
   "execution_count": 181,
   "metadata": {},
   "outputs": [],
   "source": [
    "# logreg = LogisticRegression()\n",
    "# logreg.fit(X_train,y_train)"
   ]
  },
  {
   "cell_type": "code",
   "execution_count": 182,
   "metadata": {},
   "outputs": [],
   "source": [
    "# y_train.value_counts()"
   ]
  },
  {
   "cell_type": "code",
   "execution_count": 183,
   "metadata": {},
   "outputs": [],
   "source": [
    "# pred = logreg.predict(X_test)\n",
    "# pred"
   ]
  },
  {
   "cell_type": "code",
   "execution_count": 184,
   "metadata": {},
   "outputs": [],
   "source": [
    "# proba = logreg.predict_proba(X_test)\n",
    "# proba"
   ]
  },
  {
   "cell_type": "code",
   "execution_count": 185,
   "metadata": {},
   "outputs": [],
   "source": [
    "# from sklearn.metrics import plot_confusion_matrix, confusion_matrix, classification_report"
   ]
  },
  {
   "cell_type": "code",
   "execution_count": 186,
   "metadata": {},
   "outputs": [],
   "source": [
    "# print(confusion_matrix(y_test, pred))"
   ]
  },
  {
   "cell_type": "code",
   "execution_count": 187,
   "metadata": {},
   "outputs": [],
   "source": [
    "# plt.figure(figsize=(12,8))\n",
    "# plot_confusion_matrix(logreg,X_test,y_test,values_format='d')"
   ]
  },
  {
   "cell_type": "code",
   "execution_count": 188,
   "metadata": {},
   "outputs": [],
   "source": [
    "# print(classification_report(y_test,pred))"
   ]
  },
  {
   "cell_type": "code",
   "execution_count": 189,
   "metadata": {},
   "outputs": [],
   "source": [
    "# cv_score = cross_val_score(logreg,X_test,y_test,cv=10).mean()"
   ]
  },
  {
   "cell_type": "markdown",
   "metadata": {},
   "source": [
    "## Try Model with oversampling X_train, y_train"
   ]
  },
  {
   "cell_type": "code",
   "execution_count": 190,
   "metadata": {},
   "outputs": [],
   "source": [
    "# X.shape"
   ]
  },
  {
   "cell_type": "code",
   "execution_count": 191,
   "metadata": {},
   "outputs": [],
   "source": [
    "# y.shape"
   ]
  },
  {
   "cell_type": "code",
   "execution_count": 192,
   "metadata": {},
   "outputs": [],
   "source": [
    "# X_train, X_test, y_train, y_test = train_test_split(X,y, test_size=0.3, random_state=42)"
   ]
  },
  {
   "cell_type": "code",
   "execution_count": 193,
   "metadata": {},
   "outputs": [],
   "source": [
    "# X_train.shape"
   ]
  },
  {
   "cell_type": "code",
   "execution_count": 194,
   "metadata": {},
   "outputs": [],
   "source": [
    "# y_train.shape"
   ]
  },
  {
   "cell_type": "code",
   "execution_count": 195,
   "metadata": {},
   "outputs": [],
   "source": [
    "# smot = SMOTE()"
   ]
  },
  {
   "cell_type": "code",
   "execution_count": 196,
   "metadata": {},
   "outputs": [],
   "source": [
    "# X_train_smot, y_train_smot = smote.fit_resample(X_train, y_train)"
   ]
  },
  {
   "cell_type": "code",
   "execution_count": 197,
   "metadata": {},
   "outputs": [],
   "source": [
    "# X_train_smot.shape"
   ]
  },
  {
   "cell_type": "code",
   "execution_count": 198,
   "metadata": {},
   "outputs": [],
   "source": [
    "# y_train_smot.shape"
   ]
  },
  {
   "cell_type": "code",
   "execution_count": 199,
   "metadata": {},
   "outputs": [],
   "source": [
    "# logreg2 = LogisticRegression()\n",
    "# logreg2.fit(X_train_smot,y_train_smot)"
   ]
  },
  {
   "cell_type": "code",
   "execution_count": 200,
   "metadata": {},
   "outputs": [],
   "source": [
    "# pred2 = logreg2.predict(X_test)\n",
    "# pred2"
   ]
  },
  {
   "cell_type": "code",
   "execution_count": 201,
   "metadata": {},
   "outputs": [],
   "source": [
    "# proba2 = logreg2.predict_proba(X_test)\n",
    "# proba2"
   ]
  },
  {
   "cell_type": "code",
   "execution_count": 202,
   "metadata": {},
   "outputs": [],
   "source": [
    "# print(confusion_matrix(y_test,pred2))"
   ]
  },
  {
   "cell_type": "code",
   "execution_count": 203,
   "metadata": {},
   "outputs": [],
   "source": [
    "# plt.figure(figsize=(12,8))\n",
    "# plot_confusion_matrix(logreg2,X_test,y_test,values_format='d')"
   ]
  },
  {
   "cell_type": "code",
   "execution_count": 204,
   "metadata": {},
   "outputs": [],
   "source": [
    "# print(classification_report(y_test,pred2))"
   ]
  },
  {
   "cell_type": "code",
   "execution_count": null,
   "metadata": {},
   "outputs": [],
   "source": []
  },
  {
   "cell_type": "markdown",
   "metadata": {},
   "source": [
    "## Try Modelling with p-value <0.05"
   ]
  },
  {
   "cell_type": "code",
   "execution_count": 205,
   "metadata": {},
   "outputs": [],
   "source": [
    "# X"
   ]
  },
  {
   "cell_type": "code",
   "execution_count": null,
   "metadata": {},
   "outputs": [],
   "source": []
  },
  {
   "cell_type": "code",
   "execution_count": null,
   "metadata": {},
   "outputs": [],
   "source": []
  },
  {
   "cell_type": "code",
   "execution_count": null,
   "metadata": {},
   "outputs": [],
   "source": []
  },
  {
   "cell_type": "code",
   "execution_count": null,
   "metadata": {},
   "outputs": [],
   "source": []
  },
  {
   "cell_type": "code",
   "execution_count": null,
   "metadata": {},
   "outputs": [],
   "source": []
  },
  {
   "cell_type": "markdown",
   "metadata": {},
   "source": [
    "# Import Data Test"
   ]
  },
  {
   "cell_type": "code",
   "execution_count": 206,
   "metadata": {},
   "outputs": [],
   "source": [
    "# df_test = pd.read_csv('test.csv')\n",
    "# df_test"
   ]
  },
  {
   "cell_type": "code",
   "execution_count": 207,
   "metadata": {},
   "outputs": [],
   "source": [
    "# df_test.isnull().sum()"
   ]
  },
  {
   "cell_type": "code",
   "execution_count": 208,
   "metadata": {},
   "outputs": [],
   "source": [
    "# df_test['GPA'] = df_test[['job_level','GPA']].apply(fixing_gpa,axis=1)"
   ]
  },
  {
   "cell_type": "code",
   "execution_count": 209,
   "metadata": {},
   "outputs": [],
   "source": [
    "# # Create Dummy Variable for data test\n",
    "\n",
    "# jg_test = pd.get_dummies(df_test['job_level'],drop_first=True)\n",
    "# pg_test = pd.get_dummies(df_test['person_level'],drop_first=True)\n",
    "# emp_type_test = pd.get_dummies(df_test['Employee_type'],drop_first=True)\n",
    "# gender_test = pd.get_dummies(df_test['gender'],drop_first=True)\n",
    "# marital_test = pd.get_dummies(df_test['marital_status_maried(Y/N)'],drop_first=True)\n",
    "# edu_test = pd.get_dummies(df_test['Education_level'],drop_first=True)\n",
    "\n",
    "# dummy_test = pd.concat([jg_test,pg_test,emp_type_test,gender_test,marital_test,edu_test], axis=1)\n",
    "# dummy_test\n",
    "\n",
    "# df_test.drop(['job_level', 'person_level', 'Employee_type',\n",
    "#                    'gender','marital_status_maried(Y/N)', \n",
    "#                    'Education_level'], axis=1, inplace=True)\n",
    "\n",
    "# data_test = pd.concat([dummy_test,df_test], axis=1)\n",
    "# data_test"
   ]
  },
  {
   "cell_type": "code",
   "execution_count": 210,
   "metadata": {},
   "outputs": [],
   "source": [
    "# pred_result = logreg.predict(data_test)\n",
    "# pred_result"
   ]
  },
  {
   "cell_type": "code",
   "execution_count": 211,
   "metadata": {},
   "outputs": [],
   "source": [
    "# len(pred_result)"
   ]
  },
  {
   "cell_type": "code",
   "execution_count": 212,
   "metadata": {},
   "outputs": [],
   "source": [
    "# proba_result = logreg.predict_proba(data_test)\n",
    "# proba_result"
   ]
  },
  {
   "cell_type": "code",
   "execution_count": 213,
   "metadata": {},
   "outputs": [],
   "source": [
    "# proba_result[:,1]"
   ]
  },
  {
   "cell_type": "code",
   "execution_count": 214,
   "metadata": {},
   "outputs": [],
   "source": [
    "# submission = pd.DataFrame(proba_result[:,1], columns=['Best Performance'])\n",
    "# submission.reset_index(inplace=True)"
   ]
  },
  {
   "cell_type": "code",
   "execution_count": 215,
   "metadata": {},
   "outputs": [],
   "source": [
    "# submission"
   ]
  },
  {
   "cell_type": "code",
   "execution_count": 216,
   "metadata": {},
   "outputs": [],
   "source": [
    "# submission.to_csv('Submission.csv',index=False)"
   ]
  },
  {
   "cell_type": "code",
   "execution_count": 217,
   "metadata": {},
   "outputs": [],
   "source": [
    "# pd.read_csv('Submission.csv')"
   ]
  },
  {
   "cell_type": "code",
   "execution_count": 218,
   "metadata": {},
   "outputs": [],
   "source": [
    "# sub = pd.read_csv('sample_submission.csv')\n",
    "# sub"
   ]
  },
  {
   "cell_type": "code",
   "execution_count": null,
   "metadata": {},
   "outputs": [],
   "source": []
  },
  {
   "cell_type": "code",
   "execution_count": 219,
   "metadata": {},
   "outputs": [],
   "source": [
    "# logreg.coef_"
   ]
  },
  {
   "cell_type": "code",
   "execution_count": 220,
   "metadata": {},
   "outputs": [],
   "source": [
    "# print(\"b/m/slope\", logreg.coef_[0])"
   ]
  },
  {
   "cell_type": "code",
   "execution_count": 221,
   "metadata": {},
   "outputs": [],
   "source": [
    "# dfCoef = pd.DataFrame(logreg.coef_[0], index=X_train.columns, columns=['Coefficient'])\n",
    "# dfCoef"
   ]
  },
  {
   "cell_type": "code",
   "execution_count": 222,
   "metadata": {},
   "outputs": [],
   "source": [
    "# print(\"a/c/intercept\", logreg.intercept_[0])"
   ]
  },
  {
   "cell_type": "code",
   "execution_count": null,
   "metadata": {},
   "outputs": [],
   "source": []
  },
  {
   "cell_type": "code",
   "execution_count": null,
   "metadata": {},
   "outputs": [],
   "source": []
  },
  {
   "cell_type": "code",
   "execution_count": null,
   "metadata": {},
   "outputs": [],
   "source": []
  },
  {
   "cell_type": "code",
   "execution_count": null,
   "metadata": {},
   "outputs": [],
   "source": []
  },
  {
   "cell_type": "code",
   "execution_count": null,
   "metadata": {},
   "outputs": [],
   "source": []
  },
  {
   "cell_type": "code",
   "execution_count": null,
   "metadata": {},
   "outputs": [],
   "source": []
  }
 ],
 "metadata": {
  "kernelspec": {
   "display_name": "Python 3",
   "language": "python",
   "name": "python3"
  },
  "language_info": {
   "codemirror_mode": {
    "name": "ipython",
    "version": 3
   },
   "file_extension": ".py",
   "mimetype": "text/x-python",
   "name": "python",
   "nbconvert_exporter": "python",
   "pygments_lexer": "ipython3",
   "version": "3.7.7"
  }
 },
 "nbformat": 4,
 "nbformat_minor": 4
}
